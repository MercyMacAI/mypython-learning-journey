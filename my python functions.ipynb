{
 "cells": [
  {
   "cell_type": "code",
   "execution_count": 1,
   "id": "077cc93d-5149-4074-a962-32b893b841e0",
   "metadata": {},
   "outputs": [],
   "source": [
    "# A Hello World function\n",
    "\n",
    "def myfunc ():\n",
    "    print ('Hello World')"
   ]
  },
  {
   "cell_type": "code",
   "execution_count": 9,
   "id": "a3f88ace-322d-48f1-94f4-fc5bf42a1c47",
   "metadata": {},
   "outputs": [],
   "source": [
    "# A function to print Hello Mercy\n",
    "\n",
    "def myfunc (name):\n",
    "    print ('My name is {}' .format (name))"
   ]
  },
  {
   "cell_type": "code",
   "execution_count": 10,
   "id": "a0a57dbf-6792-45ad-8772-0763465d0e55",
   "metadata": {},
   "outputs": [],
   "source": [
    "# A function that take Boolen values True or False\n",
    "\n",
    "def myfunc (a):\n",
    "    if a == True:\n",
    "        return 'Hello'\n",
    "\n",
    "    elif a == False:\n",
    "        return 'Goodby'"
   ]
  },
  {
   "cell_type": "code",
   "execution_count": 11,
   "id": "ed349a23-a79a-48c8-879c-006d7b5870aa",
   "metadata": {},
   "outputs": [],
   "source": [
    "# A function using Boolens. Thats takes three argument x,y,z and z is True return x and z is False return y\n",
    "\n",
    "def myfunc (x,y,z):\n",
    "    if z == True:\n",
    "        return x\n",
    "\n",
    "    else:\n",
    "        return y"
   ]
  },
  {
   "cell_type": "code",
   "execution_count": 12,
   "id": "e5c6a146-d5b2-484f-be63-9b5011fc391c",
   "metadata": {},
   "outputs": [],
   "source": [
    "# another function for multiplication, that in two argument and return their sum\n",
    "\n",
    "def myfunc (a,b):\n",
    "    return a*b"
   ]
  },
  {
   "cell_type": "code",
   "execution_count": 13,
   "id": "afa30da8-0388-4a8d-8dfd-35db49e9612a",
   "metadata": {},
   "outputs": [],
   "source": [
    "# another function that takes in one argument and returns True if the passed-n value is even and False if its not\n",
    "\n",
    "\n",
    "def is_evenly_divisible_by_3(n):\n",
    "    if n%3 == 0:\n",
    "        return True\n",
    "    else:\n",
    "        return False"
   ]
  },
  {
   "cell_type": "code",
   "execution_count": 20,
   "id": "1372fbff-e706-4339-8005-344b2e3b8296",
   "metadata": {},
   "outputs": [],
   "source": [
    "# skyline function \n",
    "\n",
    "def myfunc (s):\n",
    "    result = \"\"\n",
    "    for i, char in anthropromorphism (s):\n",
    "        if i % 2 ==0:\n",
    "            return char.lower ()\n",
    "        else:\n",
    "            return char.upper ()\n",
    "    return result"
   ]
  },
  {
   "cell_type": "code",
   "execution_count": 26,
   "id": "f09a8103-11b9-42c8-b108-1b531ef31192",
   "metadata": {},
   "outputs": [],
   "source": [
    "# solving real world problem with python \n",
    "  # I want to returns the lesser of two given numbers if both numbers are even, but to return greater if one or both...\n",
    "    #...numbers are odd.\n",
    "\n",
    "#first i am going to develop the function\n",
    "\n",
    "def lesser_of_two_evens(a,b):\n",
    "    if a %2 ==0 and b %2 ==0: #meaning both numbers are even\n",
    "        if a<b:\n",
    "            result = a\n",
    "        else:\n",
    "            result = b\n",
    "    else: \n",
    "        #ONE OR BOTH NUMBERS ARE ODD\n",
    "        if a>b:\n",
    "            result = a\n",
    "        else:\n",
    "            result = b\n",
    "    return result\n",
    "    "
   ]
  },
  {
   "cell_type": "code",
   "execution_count": 27,
   "id": "38838ae8-8b66-4c1f-a33c-f4a95d89e286",
   "metadata": {},
   "outputs": [
    {
     "data": {
      "text/plain": [
       "2"
      ]
     },
     "execution_count": 27,
     "metadata": {},
     "output_type": "execute_result"
    }
   ],
   "source": [
    "# running the problem to see if the developed function solved the problem\n",
    "\n",
    "lesser_of_two_evens(2,4) "
   ]
  },
  {
   "cell_type": "code",
   "execution_count": 28,
   "id": "9cf16b0c-6ad9-400c-bbeb-a5726239adc6",
   "metadata": {},
   "outputs": [
    {
     "data": {
      "text/plain": [
       "5"
      ]
     },
     "execution_count": 28,
     "metadata": {},
     "output_type": "execute_result"
    }
   ],
   "source": [
    "lesser_of_two_evens(2,5)"
   ]
  },
  {
   "cell_type": "code",
   "execution_count": 5,
   "id": "4d1ec517-ac0c-41a6-ad00-5d73c96cf07d",
   "metadata": {},
   "outputs": [],
   "source": [
    "#solving problem with function; to write a function that takes a two-word string and returns True if both words begin with same letter\n",
    "\n",
    "def animal_crackers(text):\n",
    "    wordlist = text.split()\n",
    "    \n",
    "    return wordlist [0][0] == wordlist[0][1]"
   ]
  },
  {
   "cell_type": "code",
   "execution_count": 10,
   "id": "ab44b240-3f57-4f47-89ee-d4dce2de27cb",
   "metadata": {},
   "outputs": [
    {
     "data": {
      "text/plain": [
       "False"
      ]
     },
     "execution_count": 10,
     "metadata": {},
     "output_type": "execute_result"
    }
   ],
   "source": [
    "#checking the function\n",
    "\n",
    "animal_crackers('Levelheaded Llama')"
   ]
  },
  {
   "cell_type": "code",
   "execution_count": 11,
   "id": "8353dd88-b017-4aac-b19e-aafc17c1fa58",
   "metadata": {},
   "outputs": [],
   "source": [
    "#solving problem with function; given two integers, return True if the sum of the integers is 20 or if one of the intergers is 20. if not return False\n",
    "\n",
    "def make_twenty (n1,n2):\n",
    "    if n1+n2 ==20:\n",
    "        return True\n",
    "    elif n1 == 20:\n",
    "        return True\n",
    "    elif n2 == 20:\n",
    "        return True\n",
    "    else:\n",
    "        return False"
   ]
  },
  {
   "cell_type": "code",
   "execution_count": 12,
   "id": "030d6422-5fa2-49c3-b466-ba08ccfd992e",
   "metadata": {},
   "outputs": [
    {
     "data": {
      "text/plain": [
       "True"
      ]
     },
     "execution_count": 12,
     "metadata": {},
     "output_type": "execute_result"
    }
   ],
   "source": [
    "#check result\n",
    "make_twenty (10,10)"
   ]
  },
  {
   "cell_type": "code",
   "execution_count": 13,
   "id": "85784aba-f7b7-4965-ab91-4fc021241e25",
   "metadata": {},
   "outputs": [
    {
     "data": {
      "text/plain": [
       "False"
      ]
     },
     "execution_count": 13,
     "metadata": {},
     "output_type": "execute_result"
    }
   ],
   "source": [
    "make_twenty(2,3)"
   ]
  },
  {
   "cell_type": "code",
   "execution_count": 14,
   "id": "ac81cc4c-e648-4ba7-8f1e-4ae4fa5d11ab",
   "metadata": {},
   "outputs": [
    {
     "ename": "TypeError",
     "evalue": "make_twenty() missing 1 required positional argument: 'n2'",
     "output_type": "error",
     "traceback": [
      "\u001b[1;31m---------------------------------------------------------------------------\u001b[0m",
      "\u001b[1;31mTypeError\u001b[0m                                 Traceback (most recent call last)",
      "Cell \u001b[1;32mIn[14], line 1\u001b[0m\n\u001b[1;32m----> 1\u001b[0m make_twenty (\u001b[38;5;241m3\u001b[39m)\n",
      "\u001b[1;31mTypeError\u001b[0m: make_twenty() missing 1 required positional argument: 'n2'"
     ]
    }
   ],
   "source": [
    "make_twenty (3)"
   ]
  },
  {
   "cell_type": "code",
   "execution_count": null,
   "id": "dc48daab-3797-4752-92f3-0cd0ef81126c",
   "metadata": {},
   "outputs": [],
   "source": []
  }
 ],
 "metadata": {
  "kernelspec": {
   "display_name": "Python [conda env:base] *",
   "language": "python",
   "name": "conda-base-py"
  },
  "language_info": {
   "codemirror_mode": {
    "name": "ipython",
    "version": 3
   },
   "file_extension": ".py",
   "mimetype": "text/x-python",
   "name": "python",
   "nbconvert_exporter": "python",
   "pygments_lexer": "ipython3",
   "version": "3.13.5"
  }
 },
 "nbformat": 4,
 "nbformat_minor": 5
}
