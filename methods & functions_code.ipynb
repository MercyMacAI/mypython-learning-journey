{
 "cells": [
  {
   "cell_type": "code",
   "execution_count": 52,
   "id": "a4bf9ee2-15aa-4c50-902e-7a2362896355",
   "metadata": {},
   "outputs": [],
   "source": [
    "mylist = [1,2,3,4,5,6,7]"
   ]
  },
  {
   "cell_type": "code",
   "execution_count": 54,
   "id": "b451757c-37ba-421d-b706-16a8ef1608a5",
   "metadata": {},
   "outputs": [],
   "source": [
    "# the append method with .append\n",
    "mylist.append (5)"
   ]
  },
  {
   "cell_type": "code",
   "execution_count": 55,
   "id": "dc0d20f4-9c52-4c99-b9b1-d2b63d3ce1ac",
   "metadata": {},
   "outputs": [
    {
     "data": {
      "text/plain": [
       "[1, 2, 3, 4, 5, 6, 7, 4, 5]"
      ]
     },
     "execution_count": 55,
     "metadata": {},
     "output_type": "execute_result"
    }
   ],
   "source": [
    "mylist"
   ]
  },
  {
   "cell_type": "code",
   "execution_count": 56,
   "id": "5b1dd141-b527-4a88-a37e-af00e438eb9b",
   "metadata": {},
   "outputs": [
    {
     "data": {
      "text/plain": [
       "5"
      ]
     },
     "execution_count": 56,
     "metadata": {},
     "output_type": "execute_result"
    }
   ],
   "source": [
    "# .pop method\n",
    "mylist.pop()"
   ]
  },
  {
   "cell_type": "code",
   "execution_count": 57,
   "id": "bccffe81-06e1-43be-ab96-2f111e969d83",
   "metadata": {},
   "outputs": [
    {
     "data": {
      "text/plain": [
       "[1, 2, 3, 4, 5, 6, 7, 4]"
      ]
     },
     "execution_count": 57,
     "metadata": {},
     "output_type": "execute_result"
    }
   ],
   "source": [
    "mylist"
   ]
  },
  {
   "cell_type": "code",
   "execution_count": 6,
   "id": "428d57a5-4ade-4621-b747-aea351a50511",
   "metadata": {},
   "outputs": [
    {
     "data": {
      "text/plain": [
       "<function list.insert(index, object, /)>"
      ]
     },
     "execution_count": 6,
     "metadata": {},
     "output_type": "execute_result"
    }
   ],
   "source": [
    "mylist.insert"
   ]
  },
  {
   "cell_type": "code",
   "execution_count": 8,
   "id": "e5efad70-aa27-4d78-b74f-9f76b49ddb60",
   "metadata": {},
   "outputs": [],
   "source": [
    "#learning functions in python \n",
    "#def function\n",
    "# def name_of_function(name):\n",
    "#The retrun keyword allows us to assign the output of the function to a new variable"
   ]
  },
  {
   "cell_type": "code",
   "execution_count": 10,
   "id": "d95d75c7-1bcb-4d2a-9113-008d1cb47000",
   "metadata": {},
   "outputs": [],
   "source": [
    "def add_function(num1,num2):\n",
    "    return num1+num2"
   ]
  },
  {
   "cell_type": "code",
   "execution_count": 11,
   "id": "79241c77-6368-41dd-ad8d-77b2dae561dd",
   "metadata": {},
   "outputs": [],
   "source": [
    "result = add_function(1,2)"
   ]
  },
  {
   "cell_type": "code",
   "execution_count": 12,
   "id": "0b8e96b9-e856-4fb5-a398-dcdef9e6c06e",
   "metadata": {},
   "outputs": [
    {
     "name": "stdout",
     "output_type": "stream",
     "text": [
      "3\n"
     ]
    }
   ],
   "source": [
    "print(result)"
   ]
  },
  {
   "cell_type": "code",
   "execution_count": 48,
   "id": "52f82185-167b-454e-ba45-9746aad4551f",
   "metadata": {},
   "outputs": [],
   "source": [
    "#function example\n",
    "def say_hello():\n",
    "    print (\"Hello! How are You\")\n",
    "    print ('I'\n"
   ]
  },
  {
   "cell_type": "code",
   "execution_count": 49,
   "id": "6a118be5-85fc-46cc-b802-387e80cccfb1",
   "metadata": {},
   "outputs": [
    {
     "name": "stdout",
     "output_type": "stream",
     "text": [
      "Hello! How are You\n"
     ]
    }
   ],
   "source": [
    "say_hello()"
   ]
  },
  {
   "cell_type": "code",
   "execution_count": 20,
   "id": "2480a207-8a5a-41d5-83ba-19fb3f77127a",
   "metadata": {},
   "outputs": [],
   "source": [
    "def say_hello(name):\n",
    "    print(f'Hello {name}')"
   ]
  },
  {
   "cell_type": "code",
   "execution_count": 22,
   "id": "debca969-f6ef-4438-a941-683a4671a296",
   "metadata": {},
   "outputs": [
    {
     "name": "stdout",
     "output_type": "stream",
     "text": [
      "Hello Mercy\n"
     ]
    }
   ],
   "source": [
    "say_hello('Mercy')"
   ]
  },
  {
   "cell_type": "code",
   "execution_count": 23,
   "id": "d6f4d8be-9199-40ca-85d0-821b6117b864",
   "metadata": {},
   "outputs": [
    {
     "data": {
      "text/plain": [
       "0"
      ]
     },
     "execution_count": 23,
     "metadata": {},
     "output_type": "execute_result"
    }
   ],
   "source": [
    "# Logic with Python Function. Example is the mod operator that returns the remender \n",
    "\n",
    "2 % 2\n"
   ]
  },
  {
   "cell_type": "code",
   "execution_count": 24,
   "id": "a5e91032-faf9-4dde-885c-bbd6da2e116d",
   "metadata": {},
   "outputs": [
    {
     "data": {
      "text/plain": [
       "1"
      ]
     },
     "execution_count": 24,
     "metadata": {},
     "output_type": "execute_result"
    }
   ],
   "source": [
    "3 % 2"
   ]
  },
  {
   "cell_type": "code",
   "execution_count": 26,
   "id": "e5c6239c-aecc-4404-ac45-5e8df65410c1",
   "metadata": {},
   "outputs": [
    {
     "data": {
      "text/plain": [
       "True"
      ]
     },
     "execution_count": 26,
     "metadata": {},
     "output_type": "execute_result"
    }
   ],
   "source": [
    "20 % 2 == 0"
   ]
  },
  {
   "cell_type": "code",
   "execution_count": 27,
   "id": "67513f6d-7c16-4f0c-8a0c-9834b9b519bd",
   "metadata": {},
   "outputs": [
    {
     "data": {
      "text/plain": [
       "True"
      ]
     },
     "execution_count": 27,
     "metadata": {},
     "output_type": "execute_result"
    }
   ],
   "source": [
    "40 % 4 == 0"
   ]
  },
  {
   "cell_type": "code",
   "execution_count": 31,
   "id": "422c8952-c856-4c7a-bd0f-b689035733f8",
   "metadata": {},
   "outputs": [],
   "source": [
    "#def function with mod operator\n",
    "\n",
    "def even_check (number):\n",
    "    result = number % 2 == 0\n",
    "    return result"
   ]
  },
  {
   "cell_type": "code",
   "execution_count": 29,
   "id": "e09594fb-5035-4cbc-9ccf-93e93b4e0c1e",
   "metadata": {},
   "outputs": [
    {
     "data": {
      "text/plain": [
       "True"
      ]
     },
     "execution_count": 29,
     "metadata": {},
     "output_type": "execute_result"
    }
   ],
   "source": [
    "even_check (20)"
   ]
  },
  {
   "cell_type": "code",
   "execution_count": 30,
   "id": "519e18fd-5e15-4335-bd9d-1d8a473f307a",
   "metadata": {},
   "outputs": [
    {
     "data": {
      "text/plain": [
       "False"
      ]
     },
     "execution_count": 30,
     "metadata": {},
     "output_type": "execute_result"
    }
   ],
   "source": [
    "even_check (21)"
   ]
  },
  {
   "cell_type": "code",
   "execution_count": 36,
   "id": "619d52f8-078d-4d13-8568-f3976f141b15",
   "metadata": {},
   "outputs": [],
   "source": [
    "# another example\n",
    "def even_check(number):\n",
    "    return number % 2 == 0"
   ]
  },
  {
   "cell_type": "code",
   "execution_count": 38,
   "id": "01095267-7537-45ea-bc2a-0b9feb37f471",
   "metadata": {},
   "outputs": [
    {
     "data": {
      "text/plain": [
       "True"
      ]
     },
     "execution_count": 38,
     "metadata": {},
     "output_type": "execute_result"
    }
   ],
   "source": [
    "even_check (2)"
   ]
  },
  {
   "cell_type": "code",
   "execution_count": 41,
   "id": "da2c0b87-f4ed-471e-91e1-73ee9716944b",
   "metadata": {},
   "outputs": [],
   "source": [
    "# A new Function to return true if any number is even inside a list\n",
    "def check_even_list (num_list):\n",
    "    for number in num_list:\n",
    "        if number % 2 == 0:\n",
    "            return True\n",
    "        else:\n",
    "            pass\n"
   ]
  },
  {
   "cell_type": "code",
   "execution_count": 45,
   "id": "25abb2e0-bfad-4ee9-a772-b693197980a9",
   "metadata": {},
   "outputs": [],
   "source": [
    "# A new Function to return true if any number is even inside a list\n",
    "def check_even_list (num_list):\n",
    "    for number in num_list:\n",
    "        if number % 2 == 0:\n",
    "            return True\n",
    "        else:\n",
    "            pass\n",
    "    return False\n"
   ]
  },
  {
   "cell_type": "code",
   "execution_count": 46,
   "id": "6022bcfa-e5b9-46ba-9bb3-86576156776c",
   "metadata": {},
   "outputs": [
    {
     "data": {
      "text/plain": [
       "False"
      ]
     },
     "execution_count": 46,
     "metadata": {},
     "output_type": "execute_result"
    }
   ],
   "source": [
    "check_even_list ([1,3,5])"
   ]
  },
  {
   "cell_type": "code",
   "execution_count": null,
   "id": "069abda8-c52f-463d-ab9f-b14ee37fec82",
   "metadata": {},
   "outputs": [],
   "source": []
  }
 ],
 "metadata": {
  "kernelspec": {
   "display_name": "Python [conda env:base] *",
   "language": "python",
   "name": "conda-base-py"
  },
  "language_info": {
   "codemirror_mode": {
    "name": "ipython",
    "version": 3
   },
   "file_extension": ".py",
   "mimetype": "text/x-python",
   "name": "python",
   "nbconvert_exporter": "python",
   "pygments_lexer": "ipython3",
   "version": "3.13.5"
  }
 },
 "nbformat": 4,
 "nbformat_minor": 5
}
