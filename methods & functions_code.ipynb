{
 "cells": [
  {
   "cell_type": "code",
   "execution_count": 52,
   "id": "a4bf9ee2-15aa-4c50-902e-7a2362896355",
   "metadata": {},
   "outputs": [],
   "source": [
    "mylist = [1,2,3,4,5,6,7]"
   ]
  },
  {
   "cell_type": "code",
   "execution_count": 54,
   "id": "b451757c-37ba-421d-b706-16a8ef1608a5",
   "metadata": {},
   "outputs": [],
   "source": [
    "# the append method with .append\n",
    "mylist.append (5)"
   ]
  },
  {
   "cell_type": "code",
   "execution_count": 55,
   "id": "dc0d20f4-9c52-4c99-b9b1-d2b63d3ce1ac",
   "metadata": {},
   "outputs": [
    {
     "data": {
      "text/plain": [
       "[1, 2, 3, 4, 5, 6, 7, 4, 5]"
      ]
     },
     "execution_count": 55,
     "metadata": {},
     "output_type": "execute_result"
    }
   ],
   "source": [
    "mylist"
   ]
  },
  {
   "cell_type": "code",
   "execution_count": 56,
   "id": "5b1dd141-b527-4a88-a37e-af00e438eb9b",
   "metadata": {},
   "outputs": [
    {
     "data": {
      "text/plain": [
       "5"
      ]
     },
     "execution_count": 56,
     "metadata": {},
     "output_type": "execute_result"
    }
   ],
   "source": [
    "# .pop method\n",
    "mylist.pop()"
   ]
  },
  {
   "cell_type": "code",
   "execution_count": 57,
   "id": "bccffe81-06e1-43be-ab96-2f111e969d83",
   "metadata": {},
   "outputs": [
    {
     "data": {
      "text/plain": [
       "[1, 2, 3, 4, 5, 6, 7, 4]"
      ]
     },
     "execution_count": 57,
     "metadata": {},
     "output_type": "execute_result"
    }
   ],
   "source": [
    "mylist"
   ]
  },
  {
   "cell_type": "code",
   "execution_count": 6,
   "id": "428d57a5-4ade-4621-b747-aea351a50511",
   "metadata": {},
   "outputs": [
    {
     "data": {
      "text/plain": [
       "<function list.insert(index, object, /)>"
      ]
     },
     "execution_count": 6,
     "metadata": {},
     "output_type": "execute_result"
    }
   ],
   "source": [
    "mylist.insert"
   ]
  },
  {
   "cell_type": "code",
   "execution_count": 8,
   "id": "e5efad70-aa27-4d78-b74f-9f76b49ddb60",
   "metadata": {},
   "outputs": [],
   "source": [
    "#learning functions in python \n",
    "#def function\n",
    "# def name_of_function(name):\n",
    "#The retrun keyword allows us to assign the output of the function to a new variable"
   ]
  },
  {
   "cell_type": "code",
   "execution_count": 10,
   "id": "d95d75c7-1bcb-4d2a-9113-008d1cb47000",
   "metadata": {},
   "outputs": [],
   "source": [
    "def add_function(num1,num2):\n",
    "    return num1+num2"
   ]
  },
  {
   "cell_type": "code",
   "execution_count": 11,
   "id": "79241c77-6368-41dd-ad8d-77b2dae561dd",
   "metadata": {},
   "outputs": [],
   "source": [
    "result = add_function(1,2)"
   ]
  },
  {
   "cell_type": "code",
   "execution_count": 12,
   "id": "0b8e96b9-e856-4fb5-a398-dcdef9e6c06e",
   "metadata": {},
   "outputs": [
    {
     "name": "stdout",
     "output_type": "stream",
     "text": [
      "3\n"
     ]
    }
   ],
   "source": [
    "print(result)"
   ]
  },
  {
   "cell_type": "code",
   "execution_count": 58,
   "id": "52f82185-167b-454e-ba45-9746aad4551f",
   "metadata": {},
   "outputs": [],
   "source": [
    "#function example\n",
    "def say_hello():\n",
    "    print (\"Hello!\")\n",
    "    print (\"I am Mercy\")\n"
   ]
  },
  {
   "cell_type": "code",
   "execution_count": 59,
   "id": "6a118be5-85fc-46cc-b802-387e80cccfb1",
   "metadata": {},
   "outputs": [
    {
     "name": "stdout",
     "output_type": "stream",
     "text": [
      "Hello!\n",
      "I am Mercy\n"
     ]
    }
   ],
   "source": [
    "say_hello()"
   ]
  },
  {
   "cell_type": "code",
   "execution_count": 20,
   "id": "2480a207-8a5a-41d5-83ba-19fb3f77127a",
   "metadata": {},
   "outputs": [],
   "source": [
    "def say_hello(name):\n",
    "    print(f'Hello {name}')"
   ]
  },
  {
   "cell_type": "code",
   "execution_count": 22,
   "id": "debca969-f6ef-4438-a941-683a4671a296",
   "metadata": {},
   "outputs": [
    {
     "name": "stdout",
     "output_type": "stream",
     "text": [
      "Hello Mercy\n"
     ]
    }
   ],
   "source": [
    "say_hello('Mercy')"
   ]
  },
  {
   "cell_type": "code",
   "execution_count": 23,
   "id": "d6f4d8be-9199-40ca-85d0-821b6117b864",
   "metadata": {},
   "outputs": [
    {
     "data": {
      "text/plain": [
       "0"
      ]
     },
     "execution_count": 23,
     "metadata": {},
     "output_type": "execute_result"
    }
   ],
   "source": [
    "# Logic with Python Function. Example is the mod operator that returns the remender \n",
    "\n",
    "2 % 2\n"
   ]
  },
  {
   "cell_type": "code",
   "execution_count": 24,
   "id": "a5e91032-faf9-4dde-885c-bbd6da2e116d",
   "metadata": {},
   "outputs": [
    {
     "data": {
      "text/plain": [
       "1"
      ]
     },
     "execution_count": 24,
     "metadata": {},
     "output_type": "execute_result"
    }
   ],
   "source": [
    "3 % 2"
   ]
  },
  {
   "cell_type": "code",
   "execution_count": 26,
   "id": "e5c6239c-aecc-4404-ac45-5e8df65410c1",
   "metadata": {},
   "outputs": [
    {
     "data": {
      "text/plain": [
       "True"
      ]
     },
     "execution_count": 26,
     "metadata": {},
     "output_type": "execute_result"
    }
   ],
   "source": [
    "20 % 2 == 0"
   ]
  },
  {
   "cell_type": "code",
   "execution_count": 27,
   "id": "67513f6d-7c16-4f0c-8a0c-9834b9b519bd",
   "metadata": {},
   "outputs": [
    {
     "data": {
      "text/plain": [
       "True"
      ]
     },
     "execution_count": 27,
     "metadata": {},
     "output_type": "execute_result"
    }
   ],
   "source": [
    "40 % 4 == 0"
   ]
  },
  {
   "cell_type": "code",
   "execution_count": 31,
   "id": "422c8952-c856-4c7a-bd0f-b689035733f8",
   "metadata": {},
   "outputs": [],
   "source": [
    "#def function with mod operator\n",
    "\n",
    "def even_check (number):\n",
    "    result = number % 2 == 0\n",
    "    return result"
   ]
  },
  {
   "cell_type": "code",
   "execution_count": 29,
   "id": "e09594fb-5035-4cbc-9ccf-93e93b4e0c1e",
   "metadata": {},
   "outputs": [
    {
     "data": {
      "text/plain": [
       "True"
      ]
     },
     "execution_count": 29,
     "metadata": {},
     "output_type": "execute_result"
    }
   ],
   "source": [
    "even_check (20)"
   ]
  },
  {
   "cell_type": "code",
   "execution_count": 30,
   "id": "519e18fd-5e15-4335-bd9d-1d8a473f307a",
   "metadata": {},
   "outputs": [
    {
     "data": {
      "text/plain": [
       "False"
      ]
     },
     "execution_count": 30,
     "metadata": {},
     "output_type": "execute_result"
    }
   ],
   "source": [
    "even_check (21)"
   ]
  },
  {
   "cell_type": "code",
   "execution_count": 36,
   "id": "619d52f8-078d-4d13-8568-f3976f141b15",
   "metadata": {},
   "outputs": [],
   "source": [
    "# another example\n",
    "def even_check(number):\n",
    "    return number % 2 == 0"
   ]
  },
  {
   "cell_type": "code",
   "execution_count": 38,
   "id": "01095267-7537-45ea-bc2a-0b9feb37f471",
   "metadata": {},
   "outputs": [
    {
     "data": {
      "text/plain": [
       "True"
      ]
     },
     "execution_count": 38,
     "metadata": {},
     "output_type": "execute_result"
    }
   ],
   "source": [
    "even_check (2)"
   ]
  },
  {
   "cell_type": "code",
   "execution_count": 41,
   "id": "da2c0b87-f4ed-471e-91e1-73ee9716944b",
   "metadata": {},
   "outputs": [],
   "source": [
    "# A new Function to return true if any number is even inside a list\n",
    "def check_even_list (num_list):\n",
    "    for number in num_list:\n",
    "        if number % 2 == 0:\n",
    "            return True\n",
    "        else:\n",
    "            pass\n"
   ]
  },
  {
   "cell_type": "code",
   "execution_count": 45,
   "id": "25abb2e0-bfad-4ee9-a772-b693197980a9",
   "metadata": {},
   "outputs": [],
   "source": [
    "# A new Function to return true if any number is even inside a list\n",
    "def check_even_list (num_list):\n",
    "    for number in num_list:\n",
    "        if number % 2 == 0:\n",
    "            return True\n",
    "        else:\n",
    "            pass\n",
    "    return False\n"
   ]
  },
  {
   "cell_type": "code",
   "execution_count": 46,
   "id": "6022bcfa-e5b9-46ba-9bb3-86576156776c",
   "metadata": {},
   "outputs": [
    {
     "data": {
      "text/plain": [
       "False"
      ]
     },
     "execution_count": 46,
     "metadata": {},
     "output_type": "execute_result"
    }
   ],
   "source": [
    "check_even_list ([1,3,5])"
   ]
  },
  {
   "cell_type": "code",
   "execution_count": 65,
   "id": "4ad949bf-f918-4716-8232-8873fe17b2fe",
   "metadata": {},
   "outputs": [],
   "source": [
    "# A new Function to return true if any number is even inside a list\n",
    "\n",
    "def check_even_list (num_list):\n",
    "    \n",
    "    # place holder variable\n",
    "    even_numbers = []\n",
    "    \n",
    "    for number in num_list:\n",
    "        if number % 2 == 0:\n",
    "            even_numbers.append(number)\n",
    "    \n",
    "        else:\n",
    "            pass\n",
    "    return even_numbers"
   ]
  },
  {
   "cell_type": "code",
   "execution_count": 66,
   "id": "1a841a9b-a341-4e28-89a1-eb538841ba24",
   "metadata": {},
   "outputs": [
    {
     "data": {
      "text/plain": [
       "[2, 4]"
      ]
     },
     "execution_count": 66,
     "metadata": {},
     "output_type": "execute_result"
    }
   ],
   "source": [
    "check_even_list([1,2,3,4,5])"
   ]
  },
  {
   "cell_type": "code",
   "execution_count": 67,
   "id": "37d4dfc7-685b-4e90-9211-ac4bc1753fef",
   "metadata": {},
   "outputs": [],
   "source": [
    "#Tuple unpacking, i created a list of stock_prices\n",
    "\n",
    "stock_list =[('Apple',200), ('Google',300), ('MS', 500)]\n"
   ]
  },
  {
   "cell_type": "code",
   "execution_count": 68,
   "id": "28d11a44-3d66-429b-b4ef-178f2ebec5ea",
   "metadata": {},
   "outputs": [
    {
     "name": "stdout",
     "output_type": "stream",
     "text": [
      "('Apple', 200)\n",
      "('Google', 300)\n",
      "('MS', 500)\n"
     ]
    }
   ],
   "source": [
    "for items in stock_list:\n",
    "    print(items)\n"
   ]
  },
  {
   "cell_type": "code",
   "execution_count": 71,
   "id": "ec96b853-e246-4d57-9e8f-da5704bc83fb",
   "metadata": {},
   "outputs": [
    {
     "name": "stdout",
     "output_type": "stream",
     "text": [
      "Apple\n",
      "Google\n",
      "MS\n"
     ]
    }
   ],
   "source": [
    "# to unpack\n",
    "for ticker, price in stock_list:\n",
    "    print (ticker)"
   ]
  },
  {
   "cell_type": "code",
   "execution_count": 73,
   "id": "f442f9f2-75bd-45aa-91cb-51ed448821ce",
   "metadata": {},
   "outputs": [],
   "source": [
    "work_hours = [('Mercy',200), ('Faithful',300), ('Favour', 600)]"
   ]
  },
  {
   "cell_type": "code",
   "execution_count": 74,
   "id": "2f3b26b5-77d8-4be5-a2fa-b039118a0a51",
   "metadata": {},
   "outputs": [],
   "source": [
    "# creating a function called employee_check for who work the max hours\n",
    "\n",
    "def employee_check (work_hours):\n",
    "    current_max = 0\n",
    "    employee_of_month = ''\n",
    "\n",
    "    for employee, hours in work_hours:\n",
    "        if hours > current_max:\n",
    "            current_max = hours\n",
    "            employee_of_month = employee\n",
    "        else:\n",
    "            pass\n",
    "        \n",
    "\n",
    "    #return\n",
    "    return (employee_of_month, current_max)"
   ]
  },
  {
   "cell_type": "code",
   "execution_count": 75,
   "id": "508a83dd-f32d-4fd0-b0c4-da85bf155c7c",
   "metadata": {},
   "outputs": [
    {
     "data": {
      "text/plain": [
       "('Favour', 600)"
      ]
     },
     "execution_count": 75,
     "metadata": {},
     "output_type": "execute_result"
    }
   ],
   "source": [
    "employee_check(work_hours)"
   ]
  },
  {
   "cell_type": "code",
   "execution_count": 8,
   "id": "0e7c7e58-c2dc-4300-afc8-0853fa8bbb2c",
   "metadata": {},
   "outputs": [],
   "source": [
    "example = [1,2,3,4,5,6,7]"
   ]
  },
  {
   "cell_type": "code",
   "execution_count": 9,
   "id": "674524d2-ff5e-4ee8-a98f-f990ba8054a0",
   "metadata": {},
   "outputs": [],
   "source": [
    "from random import shuffle"
   ]
  },
  {
   "cell_type": "code",
   "execution_count": 12,
   "id": "acae981a-bb39-4471-bbc2-01303604e005",
   "metadata": {},
   "outputs": [],
   "source": [
    "result = shuffle (example) "
   ]
  },
  {
   "cell_type": "code",
   "execution_count": 13,
   "id": "693a5be8-1157-4c76-9afb-87016614f9ec",
   "metadata": {},
   "outputs": [],
   "source": [
    "result"
   ]
  },
  {
   "cell_type": "code",
   "execution_count": 27,
   "id": "452db399-64ea-49e3-ad7a-3e1cdf53f74b",
   "metadata": {},
   "outputs": [],
   "source": [
    "#CREATED A FUNCTION TO SHUFFLE THE LIST \"EXAMPLE\"\n",
    "\n",
    "def shuffle_list (mylist):\n",
    "    shuffle(mylist)\n",
    "    return mylist"
   ]
  },
  {
   "cell_type": "code",
   "execution_count": 28,
   "id": "f2f84449-7abf-4f03-b0e6-1502fff73710",
   "metadata": {},
   "outputs": [],
   "source": [
    "result = shuffle_list(example)"
   ]
  },
  {
   "cell_type": "code",
   "execution_count": 29,
   "id": "e35d352e-a66b-4915-8041-78764aae8459",
   "metadata": {},
   "outputs": [
    {
     "data": {
      "text/plain": [
       "[7, 6, 5, 3, 2, 1, 4]"
      ]
     },
     "execution_count": 29,
     "metadata": {},
     "output_type": "execute_result"
    }
   ],
   "source": [
    "result"
   ]
  },
  {
   "cell_type": "code",
   "execution_count": 33,
   "id": "2c26bd18-e6c5-4797-8c0c-15d3a839f4ab",
   "metadata": {},
   "outputs": [
    {
     "data": {
      "text/plain": [
       "['', 'O', '']"
      ]
     },
     "execution_count": 33,
     "metadata": {},
     "output_type": "execute_result"
    }
   ],
   "source": [
    "# using the above created list and shuffle function to build the function for three (3) cup montee game ( 3 cups with a red ball)\n",
    "# I will be building two list that are empty and one with an O as the red ball\n",
    "\n",
    "#the game list will be 3 strings with 2 empty and 1 with capital O letter\n",
    "\n",
    "mylist = ['','O','']\n",
    "shuffle_list (mylist) # the more i rerun the code the more it shuffles the letter O within the three lists"
   ]
  },
  {
   "cell_type": "code",
   "execution_count": 36,
   "id": "78a9553c-cd2f-4139-a79e-e9ccc7980238",
   "metadata": {},
   "outputs": [],
   "source": [
    "# a player guess function\n",
    "\n",
    "def player_guess():\n",
    "    guess = ''\n",
    "    while guess not in ['0','1','2']:\n",
    "        guess = input (\"pick a number: 0,1,2\")\n",
    "    return int (guess)"
   ]
  },
  {
   "cell_type": "code",
   "execution_count": 38,
   "id": "753852d9-955f-4988-b4e6-98801eba9b87",
   "metadata": {},
   "outputs": [
    {
     "name": "stdin",
     "output_type": "stream",
     "text": [
      "pick a number: 0,1,2 2\n"
     ]
    },
    {
     "data": {
      "text/plain": [
       "2"
      ]
     },
     "execution_count": 38,
     "metadata": {},
     "output_type": "execute_result"
    }
   ],
   "source": [
    "player_guess ()"
   ]
  },
  {
   "cell_type": "code",
   "execution_count": 39,
   "id": "8b714564-65f7-406d-bda1-470c58da91df",
   "metadata": {},
   "outputs": [
    {
     "name": "stdin",
     "output_type": "stream",
     "text": [
      "pick a number: 0,1,2 2\n"
     ]
    }
   ],
   "source": [
    "myindex = player_guess()"
   ]
  },
  {
   "cell_type": "code",
   "execution_count": 40,
   "id": "a2994b4a-383d-4451-a8e3-06666dcd47b3",
   "metadata": {},
   "outputs": [
    {
     "data": {
      "text/plain": [
       "2"
      ]
     },
     "execution_count": 40,
     "metadata": {},
     "output_type": "execute_result"
    }
   ],
   "source": [
    "myindex"
   ]
  },
  {
   "cell_type": "code",
   "execution_count": null,
   "id": "057bddc2-52dc-47bc-b01a-943082519dd5",
   "metadata": {},
   "outputs": [],
   "source": []
  }
 ],
 "metadata": {
  "kernelspec": {
   "display_name": "Python [conda env:base] *",
   "language": "python",
   "name": "conda-base-py"
  },
  "language_info": {
   "codemirror_mode": {
    "name": "ipython",
    "version": 3
   },
   "file_extension": ".py",
   "mimetype": "text/x-python",
   "name": "python",
   "nbconvert_exporter": "python",
   "pygments_lexer": "ipython3",
   "version": "3.13.5"
  }
 },
 "nbformat": 4,
 "nbformat_minor": 5
}
