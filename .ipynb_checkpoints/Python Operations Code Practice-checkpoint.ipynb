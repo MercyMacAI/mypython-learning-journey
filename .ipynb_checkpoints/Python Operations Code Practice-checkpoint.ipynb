{
 "cells": [
  {
   "cell_type": "code",
   "execution_count": 1,
   "id": "c1c1b261-f50f-48b5-a605-ee46c19c6986",
   "metadata": {},
   "outputs": [
    {
     "name": "stdout",
     "output_type": "stream",
     "text": [
      "0\n",
      "2\n",
      "4\n",
      "6\n",
      "8\n",
      "10\n"
     ]
    }
   ],
   "source": [
    "#the range operator \n",
    "mylist = [1,2,3]\n",
    "for num in range (0,11,2):\n",
    "    print (num)\n",
    "\n"
   ]
  },
  {
   "cell_type": "code",
   "execution_count": 5,
   "id": "d9eaaf2e-2520-402b-8960-907a098522f8",
   "metadata": {},
   "outputs": [
    {
     "name": "stdout",
     "output_type": "stream",
     "text": [
      "(0, 'a')\n",
      "(1, 'b')\n",
      "(2, 'c')\n",
      "(3, 'd')\n",
      "(4, 'e')\n"
     ]
    }
   ],
   "source": [
    "#the enumerate operator\n",
    "\n",
    "word = 'abcde'\n",
    "\n",
    "for item in enumerate (word):\n",
    "    print (item)\n",
    "   \n"
   ]
  },
  {
   "cell_type": "code",
   "execution_count": 3,
   "id": "4d8f9e44-a9ed-4400-bc58-2bf684282bcf",
   "metadata": {},
   "outputs": [],
   "source": [
    "# the zip operator\n",
    "\n",
    "mylist1 = [1,2,3,4,5]\n",
    "mylist2 = ['a','b','c','d']\n",
    "mylist3 = [100,200,300,400]\n"
   ]
  },
  {
   "cell_type": "code",
   "execution_count": 5,
   "id": "b3bb6d64-ca6c-41f4-9061-9e584db660ba",
   "metadata": {},
   "outputs": [
    {
     "name": "stdout",
     "output_type": "stream",
     "text": [
      "(1, 'a', 100)\n",
      "(2, 'b', 200)\n",
      "(3, 'c', 300)\n",
      "(4, 'd', 400)\n"
     ]
    }
   ],
   "source": [
    "for items in zip (mylist1,mylist2,mylist3):\n",
    "    print(items) "
   ]
  },
  {
   "cell_type": "code",
   "execution_count": 6,
   "id": "6822349a-7c55-41ce-8a7f-110127de6239",
   "metadata": {},
   "outputs": [
    {
     "data": {
      "text/plain": [
       "True"
      ]
     },
     "execution_count": 6,
     "metadata": {},
     "output_type": "execute_result"
    }
   ],
   "source": [
    "# another example of in operator\n",
    "\n",
    "'a' in 'a word'"
   ]
  },
  {
   "cell_type": "code",
   "execution_count": 7,
   "id": "b8c64579-d396-4e67-927e-852548abbba6",
   "metadata": {},
   "outputs": [
    {
     "data": {
      "text/plain": [
       "10"
      ]
     },
     "execution_count": 7,
     "metadata": {},
     "output_type": "execute_result"
    }
   ],
   "source": [
    "# another example is the min and max function operators\n",
    "\n",
    "mylist = [10,20,30,40,100,300]\n",
    "min(mylist)\n"
   ]
  },
  {
   "cell_type": "code",
   "execution_count": 8,
   "id": "adc7edc6-0d46-4ccd-8842-8b6da699db01",
   "metadata": {},
   "outputs": [
    {
     "data": {
      "text/plain": [
       "300"
      ]
     },
     "execution_count": 8,
     "metadata": {},
     "output_type": "execute_result"
    }
   ],
   "source": [
    "max(mylist)"
   ]
  },
  {
   "cell_type": "code",
   "execution_count": 9,
   "id": "e4533aa8-228b-45b6-ab8d-2aa70979d956",
   "metadata": {},
   "outputs": [],
   "source": [
    "# coding practice on random library \n",
    "\n",
    "from random import shuffle\n",
    "\n",
    "  #shuffle will randomly shuffle any type of list"
   ]
  },
  {
   "cell_type": "code",
   "execution_count": 10,
   "id": "e36e2d37-42ec-4319-a039-106b50f166d6",
   "metadata": {},
   "outputs": [],
   "source": [
    "mylist = [1,2,3,4,5,6,7,8,9,10]"
   ]
  },
  {
   "cell_type": "code",
   "execution_count": 11,
   "id": "6a6ce4fc-a8de-438c-8939-9f8b3bd03b48",
   "metadata": {},
   "outputs": [],
   "source": [
    "shuffle(mylist)"
   ]
  },
  {
   "cell_type": "code",
   "execution_count": 12,
   "id": "db5e168d-810b-4a55-b480-625a173b229a",
   "metadata": {},
   "outputs": [
    {
     "data": {
      "text/plain": [
       "[1, 2, 7, 6, 4, 5, 8, 9, 10, 3]"
      ]
     },
     "execution_count": 12,
     "metadata": {},
     "output_type": "execute_result"
    }
   ],
   "source": [
    "mylist"
   ]
  },
  {
   "cell_type": "code",
   "execution_count": 15,
   "id": "9ed258d3-66eb-4262-94b9-ad38270b99a5",
   "metadata": {},
   "outputs": [
    {
     "data": {
      "text/plain": [
       "[1, 2, 7, 6, 4, 5, 8, 9, 10, 3]"
      ]
     },
     "execution_count": 15,
     "metadata": {},
     "output_type": "execute_result"
    }
   ],
   "source": [
    "mylist"
   ]
  },
  {
   "cell_type": "code",
   "execution_count": 16,
   "id": "9a911d83-b068-4334-ae57-ad18799d5a08",
   "metadata": {},
   "outputs": [
    {
     "name": "stdin",
     "output_type": "stream",
     "text": [
      "Enter a number here 2\n"
     ]
    },
    {
     "data": {
      "text/plain": [
       "'2'"
      ]
     },
     "execution_count": 16,
     "metadata": {},
     "output_type": "execute_result"
    }
   ],
   "source": [
    "# another example if the input function\n",
    "input ('Enter a number here')"
   ]
  },
  {
   "cell_type": "code",
   "execution_count": 17,
   "id": "aa584c6d-56f8-4673-ac2c-69e870277a11",
   "metadata": {},
   "outputs": [
    {
     "name": "stdin",
     "output_type": "stream",
     "text": [
      "What is your name? Mercy Akachukwu\n"
     ]
    }
   ],
   "source": [
    "result = input('What is your name?')"
   ]
  },
  {
   "cell_type": "code",
   "execution_count": 19,
   "id": "5a34b314-d852-4bae-9f8c-9d1af38bf3f7",
   "metadata": {},
   "outputs": [
    {
     "data": {
      "text/plain": [
       "'Mercy Akachukwu'"
      ]
     },
     "execution_count": 19,
     "metadata": {},
     "output_type": "execute_result"
    }
   ],
   "source": [
    "result"
   ]
  },
  {
   "cell_type": "code",
   "execution_count": null,
   "id": "05715dc9-a0a4-4bb5-b727-15bbcfc7166f",
   "metadata": {},
   "outputs": [],
   "source": []
  }
 ],
 "metadata": {
  "kernelspec": {
   "display_name": "Python [conda env:base] *",
   "language": "python",
   "name": "conda-base-py"
  },
  "language_info": {
   "codemirror_mode": {
    "name": "ipython",
    "version": 3
   },
   "file_extension": ".py",
   "mimetype": "text/x-python",
   "name": "python",
   "nbconvert_exporter": "python",
   "pygments_lexer": "ipython3",
   "version": "3.13.5"
  }
 },
 "nbformat": 4,
 "nbformat_minor": 5
}
