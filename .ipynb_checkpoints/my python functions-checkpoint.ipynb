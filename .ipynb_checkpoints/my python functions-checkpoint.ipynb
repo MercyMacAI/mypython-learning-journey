{
 "cells": [
  {
   "cell_type": "code",
   "execution_count": 1,
   "id": "077cc93d-5149-4074-a962-32b893b841e0",
   "metadata": {},
   "outputs": [],
   "source": [
    "# A Hello World function\n",
    "\n",
    "def myfunc ():\n",
    "    print ('Hello World')"
   ]
  },
  {
   "cell_type": "code",
   "execution_count": 9,
   "id": "a3f88ace-322d-48f1-94f4-fc5bf42a1c47",
   "metadata": {},
   "outputs": [],
   "source": [
    "# A function to print Hello Mercy\n",
    "\n",
    "def myfunc (name):\n",
    "    print ('My name is {}' .format (name))"
   ]
  },
  {
   "cell_type": "code",
   "execution_count": 10,
   "id": "a0a57dbf-6792-45ad-8772-0763465d0e55",
   "metadata": {},
   "outputs": [],
   "source": [
    "# A function that take Boolen values True or False\n",
    "\n",
    "def myfunc (a):\n",
    "    if a == True:\n",
    "        return 'Hello'\n",
    "\n",
    "    elif a == False:\n",
    "        return 'Goodby'"
   ]
  },
  {
   "cell_type": "code",
   "execution_count": 11,
   "id": "ed349a23-a79a-48c8-879c-006d7b5870aa",
   "metadata": {},
   "outputs": [],
   "source": [
    "# A function using Boolens. Thats takes three argument x,y,z and z is True return x and z is False return y\n",
    "\n",
    "def myfunc (x,y,z):\n",
    "    if z == True:\n",
    "        return x\n",
    "\n",
    "    else:\n",
    "        return y"
   ]
  },
  {
   "cell_type": "code",
   "execution_count": 12,
   "id": "e5c6a146-d5b2-484f-be63-9b5011fc391c",
   "metadata": {},
   "outputs": [],
   "source": [
    "# another function for multiplication, that in two argument and return their sum\n",
    "\n",
    "def myfunc (a,b):\n",
    "    return a*b"
   ]
  },
  {
   "cell_type": "code",
   "execution_count": 13,
   "id": "afa30da8-0388-4a8d-8dfd-35db49e9612a",
   "metadata": {},
   "outputs": [],
   "source": [
    "# another function that takes in one argument and returns True if the passed-n value is even and False if its not\n",
    "\n",
    "\n",
    "def is_evenly_divisible_by_3(n):\n",
    "    if n%3 == 0:\n",
    "        return True\n",
    "    else:\n",
    "        return False"
   ]
  },
  {
   "cell_type": "code",
   "execution_count": 20,
   "id": "1372fbff-e706-4339-8005-344b2e3b8296",
   "metadata": {},
   "outputs": [],
   "source": [
    "# skyline function \n",
    "\n",
    "def myfunc (s):\n",
    "    result = \"\"\n",
    "    for i, char in anthropromorphism (s):\n",
    "        if i % 2 ==0:\n",
    "            return char.lower ()\n",
    "        else:\n",
    "            return char.upper ()\n",
    "    return result"
   ]
  },
  {
   "cell_type": "code",
   "execution_count": 26,
   "id": "f09a8103-11b9-42c8-b108-1b531ef31192",
   "metadata": {},
   "outputs": [],
   "source": [
    "# solving real world problem with python \n",
    "  # I want to returns the lesser of two given numbers if both numbers are even, but to return greater if one or both...\n",
    "    #...numbers are odd.\n",
    "\n",
    "#first i am going to develop the function\n",
    "\n",
    "def lesser_of_two_evens(a,b):\n",
    "    if a %2 ==0 and b %2 ==0: #meaning both numbers are even\n",
    "        if a<b:\n",
    "            result = a\n",
    "        else:\n",
    "            result = b\n",
    "    else: \n",
    "        #ONE OR BOTH NUMBERS ARE ODD\n",
    "        if a>b:\n",
    "            result = a\n",
    "        else:\n",
    "            result = b\n",
    "    return result\n",
    "    "
   ]
  },
  {
   "cell_type": "code",
   "execution_count": 27,
   "id": "38838ae8-8b66-4c1f-a33c-f4a95d89e286",
   "metadata": {},
   "outputs": [
    {
     "data": {
      "text/plain": [
       "2"
      ]
     },
     "execution_count": 27,
     "metadata": {},
     "output_type": "execute_result"
    }
   ],
   "source": [
    "# running the problem to see if the developed function solved the problem\n",
    "\n",
    "lesser_of_two_evens(2,4) "
   ]
  },
  {
   "cell_type": "code",
   "execution_count": 28,
   "id": "9cf16b0c-6ad9-400c-bbeb-a5726239adc6",
   "metadata": {},
   "outputs": [
    {
     "data": {
      "text/plain": [
       "5"
      ]
     },
     "execution_count": 28,
     "metadata": {},
     "output_type": "execute_result"
    }
   ],
   "source": [
    "lesser_of_two_evens(2,5)"
   ]
  },
  {
   "cell_type": "code",
   "execution_count": 5,
   "id": "4d1ec517-ac0c-41a6-ad00-5d73c96cf07d",
   "metadata": {},
   "outputs": [],
   "source": [
    "#solving problem with function; to write a function that takes a two-word string and returns True if both words begin with same letter\n",
    "\n",
    "def animal_crackers(text):\n",
    "    wordlist = text.split()\n",
    "    \n",
    "    return wordlist [0][0] == wordlist[0][1]"
   ]
  },
  {
   "cell_type": "code",
   "execution_count": 10,
   "id": "ab44b240-3f57-4f47-89ee-d4dce2de27cb",
   "metadata": {},
   "outputs": [
    {
     "data": {
      "text/plain": [
       "False"
      ]
     },
     "execution_count": 10,
     "metadata": {},
     "output_type": "execute_result"
    }
   ],
   "source": [
    "#checking the function\n",
    "\n",
    "animal_crackers('Levelheaded Llama')"
   ]
  },
  {
   "cell_type": "code",
   "execution_count": 11,
   "id": "8353dd88-b017-4aac-b19e-aafc17c1fa58",
   "metadata": {},
   "outputs": [],
   "source": [
    "#solving problem with function; given two integers, return True if the sum of the integers is 20 or if one of the intergers is 20. if not return False\n",
    "\n",
    "def make_twenty (n1,n2):\n",
    "    if n1+n2 ==20:\n",
    "        return True\n",
    "    elif n1 == 20:\n",
    "        return True\n",
    "    elif n2 == 20:\n",
    "        return True\n",
    "    else:\n",
    "        return False"
   ]
  },
  {
   "cell_type": "code",
   "execution_count": 12,
   "id": "030d6422-5fa2-49c3-b466-ba08ccfd992e",
   "metadata": {},
   "outputs": [
    {
     "data": {
      "text/plain": [
       "True"
      ]
     },
     "execution_count": 12,
     "metadata": {},
     "output_type": "execute_result"
    }
   ],
   "source": [
    "#check result\n",
    "make_twenty (10,10)"
   ]
  },
  {
   "cell_type": "code",
   "execution_count": 13,
   "id": "85784aba-f7b7-4965-ab91-4fc021241e25",
   "metadata": {},
   "outputs": [
    {
     "data": {
      "text/plain": [
       "False"
      ]
     },
     "execution_count": 13,
     "metadata": {},
     "output_type": "execute_result"
    }
   ],
   "source": [
    "make_twenty(2,3)"
   ]
  },
  {
   "cell_type": "code",
   "execution_count": 15,
   "id": "ac81cc4c-e648-4ba7-8f1e-4ae4fa5d11ab",
   "metadata": {},
   "outputs": [
    {
     "data": {
      "text/plain": [
       "False"
      ]
     },
     "execution_count": 15,
     "metadata": {},
     "output_type": "execute_result"
    }
   ],
   "source": [
    "make_twenty (3,9)"
   ]
  },
  {
   "cell_type": "code",
   "execution_count": 1,
   "id": "dc48daab-3797-4752-92f3-0cd0ef81126c",
   "metadata": {},
   "outputs": [],
   "source": [
    "#map function - map(func, *iterables) >> map object\n",
    "\n",
    "def square (num):\n",
    "    return num**2"
   ]
  },
  {
   "cell_type": "code",
   "execution_count": 4,
   "id": "2b869ce5-5f67-404c-af9d-f65a6e37f601",
   "metadata": {},
   "outputs": [],
   "source": [
    "my_nums = [1,2,3,4,5]"
   ]
  },
  {
   "cell_type": "code",
   "execution_count": 5,
   "id": "82ba7325-4104-4575-89be-120a021d91b1",
   "metadata": {},
   "outputs": [
    {
     "data": {
      "text/plain": [
       "<map at 0x252b1bef7c0>"
      ]
     },
     "execution_count": 5,
     "metadata": {},
     "output_type": "execute_result"
    }
   ],
   "source": [
    "map (square, my_nums)"
   ]
  },
  {
   "cell_type": "code",
   "execution_count": 6,
   "id": "4adf205f-518d-45e8-bdfd-2d0ce8165d6d",
   "metadata": {},
   "outputs": [
    {
     "name": "stdout",
     "output_type": "stream",
     "text": [
      "1\n",
      "4\n",
      "9\n",
      "16\n",
      "25\n"
     ]
    }
   ],
   "source": [
    "#another approach to check\n",
    "\n",
    "for item in map(square, my_num):\n",
    "    print (item)"
   ]
  },
  {
   "cell_type": "code",
   "execution_count": 7,
   "id": "55aab5c1-f026-4319-8925-d30b7e9dec4e",
   "metadata": {},
   "outputs": [
    {
     "data": {
      "text/plain": [
       "[1, 4, 9, 16, 25]"
      ]
     },
     "execution_count": 7,
     "metadata": {},
     "output_type": "execute_result"
    }
   ],
   "source": [
    "#3rd apprach to check the function\n",
    "\n",
    "list (map(square, my_nums))"
   ]
  },
  {
   "cell_type": "code",
   "execution_count": 8,
   "id": "654d142d-88d9-4d9f-8129-0787920d2a59",
   "metadata": {},
   "outputs": [],
   "source": [
    "#filter function\n",
    "\n",
    "def check_even (num):\n",
    "    return num%2 == 0"
   ]
  },
  {
   "cell_type": "code",
   "execution_count": 9,
   "id": "a1366bb2-0626-4c12-96f2-0da30b437838",
   "metadata": {},
   "outputs": [],
   "source": [
    "mynums = [1,2,3,4,5,6]"
   ]
  },
  {
   "cell_type": "code",
   "execution_count": 10,
   "id": "478cd2d6-cfae-4792-8bd1-68d5e4469ab3",
   "metadata": {},
   "outputs": [
    {
     "data": {
      "text/plain": [
       "[2, 4, 6]"
      ]
     },
     "execution_count": 10,
     "metadata": {},
     "output_type": "execute_result"
    }
   ],
   "source": [
    "list (filter(check_even, mynums))\n"
   ]
  },
  {
   "cell_type": "code",
   "execution_count": 11,
   "id": "7d48c17e-6315-4197-bb55-bd3a0db789d5",
   "metadata": {},
   "outputs": [
    {
     "name": "stdout",
     "output_type": "stream",
     "text": [
      "2\n",
      "4\n",
      "6\n"
     ]
    }
   ],
   "source": [
    "for n in filter (check_even, mynums):\n",
    "    print(n)"
   ]
  },
  {
   "cell_type": "code",
   "execution_count": 12,
   "id": "6ceb28ec-ef54-4f63-b020-bfbf1a9f187d",
   "metadata": {},
   "outputs": [],
   "source": [
    "#Lambda Expression\n",
    "\n",
    "  #first i will define a new function \n",
    "def square (num):\n",
    "    result = num**2\n",
    "    return result"
   ]
  },
  {
   "cell_type": "code",
   "execution_count": 13,
   "id": "52e4673c-0e9f-4986-a40d-5af39b3f5a5d",
   "metadata": {},
   "outputs": [
    {
     "data": {
      "text/plain": [
       "25"
      ]
     },
     "execution_count": 13,
     "metadata": {},
     "output_type": "execute_result"
    }
   ],
   "source": [
    "square (5)"
   ]
  },
  {
   "cell_type": "code",
   "execution_count": 21,
   "id": "3fc80f3b-c095-4dab-b606-d201de4f4acf",
   "metadata": {},
   "outputs": [
    {
     "data": {
      "text/plain": [
       "<function __main__.<lambda>(num)>"
      ]
     },
     "execution_count": 21,
     "metadata": {},
     "output_type": "execute_result"
    }
   ],
   "source": [
    "#converting a above functon into a Lambda expression\n",
    "\n",
    "lambda num: num **2"
   ]
  },
  {
   "cell_type": "code",
   "execution_count": 22,
   "id": "36d7d2a9-0664-4a3f-b8fa-1cb65e7df70e",
   "metadata": {},
   "outputs": [
    {
     "data": {
      "text/plain": [
       "25"
      ]
     },
     "execution_count": 22,
     "metadata": {},
     "output_type": "execute_result"
    }
   ],
   "source": [
    "square (5)"
   ]
  },
  {
   "cell_type": "code",
   "execution_count": 14,
   "id": "c469eff6-77af-40a2-8ae3-1bd220065218",
   "metadata": {},
   "outputs": [
    {
     "data": {
      "text/plain": [
       "[1, 4, 9, 16, 25, 36]"
      ]
     },
     "execution_count": 14,
     "metadata": {},
     "output_type": "execute_result"
    }
   ],
   "source": [
    "list (map (lambda num:num**2, mynums))"
   ]
  },
  {
   "cell_type": "code",
   "execution_count": null,
   "id": "c672c340-d35c-45eb-97fa-01682519b16f",
   "metadata": {},
   "outputs": [],
   "source": []
  }
 ],
 "metadata": {
  "kernelspec": {
   "display_name": "Python [conda env:base] *",
   "language": "python",
   "name": "conda-base-py"
  },
  "language_info": {
   "codemirror_mode": {
    "name": "ipython",
    "version": 3
   },
   "file_extension": ".py",
   "mimetype": "text/x-python",
   "name": "python",
   "nbconvert_exporter": "python",
   "pygments_lexer": "ipython3",
   "version": "3.13.5"
  }
 },
 "nbformat": 4,
 "nbformat_minor": 5
}
