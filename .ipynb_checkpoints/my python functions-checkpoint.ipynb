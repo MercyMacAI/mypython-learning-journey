{
 "cells": [
  {
   "cell_type": "code",
   "execution_count": 1,
   "id": "077cc93d-5149-4074-a962-32b893b841e0",
   "metadata": {},
   "outputs": [],
   "source": [
    "# A Hello World function\n",
    "\n",
    "def myfunc ():\n",
    "    print ('Hello World')"
   ]
  },
  {
   "cell_type": "code",
   "execution_count": 9,
   "id": "a3f88ace-322d-48f1-94f4-fc5bf42a1c47",
   "metadata": {},
   "outputs": [],
   "source": [
    "# A function to print Hello Mercy\n",
    "\n",
    "def myfunc (name):\n",
    "    print ('My name is {}' .format (name))"
   ]
  },
  {
   "cell_type": "code",
   "execution_count": 10,
   "id": "a0a57dbf-6792-45ad-8772-0763465d0e55",
   "metadata": {},
   "outputs": [],
   "source": [
    "# A function that take Boolen values True or False\n",
    "\n",
    "def myfunc (a):\n",
    "    if a == True:\n",
    "        return 'Hello'\n",
    "\n",
    "    elif a == False:\n",
    "        return 'Goodby'"
   ]
  },
  {
   "cell_type": "code",
   "execution_count": 11,
   "id": "ed349a23-a79a-48c8-879c-006d7b5870aa",
   "metadata": {},
   "outputs": [],
   "source": [
    "# A function using Boolens. Thats takes three argument x,y,z and z is True return x and z is False return y\n",
    "\n",
    "def myfunc (x,y,z):\n",
    "    if z == True:\n",
    "        return x\n",
    "\n",
    "    else:\n",
    "        return y"
   ]
  },
  {
   "cell_type": "code",
   "execution_count": 12,
   "id": "e5c6a146-d5b2-484f-be63-9b5011fc391c",
   "metadata": {},
   "outputs": [],
   "source": [
    "# another function for multiplication, that in two argument and return their sum\n",
    "\n",
    "def myfunc (a,b):\n",
    "    return a*b"
   ]
  },
  {
   "cell_type": "code",
   "execution_count": 13,
   "id": "afa30da8-0388-4a8d-8dfd-35db49e9612a",
   "metadata": {},
   "outputs": [],
   "source": [
    "# another function that takes in one argument and returns True if the passed-n value is even and False if its not\n",
    "\n",
    "\n",
    "def is_evenly_divisible_by_3(n):\n",
    "    if n%3 == 0:\n",
    "        return True\n",
    "    else:\n",
    "        return False"
   ]
  },
  {
   "cell_type": "code",
   "execution_count": null,
   "id": "1372fbff-e706-4339-8005-344b2e3b8296",
   "metadata": {},
   "outputs": [],
   "source": []
  }
 ],
 "metadata": {
  "kernelspec": {
   "display_name": "Python [conda env:base] *",
   "language": "python",
   "name": "conda-base-py"
  },
  "language_info": {
   "codemirror_mode": {
    "name": "ipython",
    "version": 3
   },
   "file_extension": ".py",
   "mimetype": "text/x-python",
   "name": "python",
   "nbconvert_exporter": "python",
   "pygments_lexer": "ipython3",
   "version": "3.13.5"
  }
 },
 "nbformat": 4,
 "nbformat_minor": 5
}
