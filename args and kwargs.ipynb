{
 "cells": [
  {
   "cell_type": "code",
   "execution_count": 3,
   "id": "050c2aac-878d-41bd-9160-709afbeb74a5",
   "metadata": {},
   "outputs": [],
   "source": [
    "# *args and **kwargs in python\n",
    "    # *args stand for arguents\n",
    "    # **kwargs stand for keyword argument\n",
    "\n",
    "def myfunc(a,b):\n",
    "    #return 5% of the sum of a and b\n",
    "     return sum ((a,b))*0.05"
   ]
  },
  {
   "cell_type": "code",
   "execution_count": 4,
   "id": "4466921a-40c7-404b-92d5-ae7cfeb7df18",
   "metadata": {},
   "outputs": [
    {
     "data": {
      "text/plain": [
       "5.0"
      ]
     },
     "execution_count": 4,
     "metadata": {},
     "output_type": "execute_result"
    }
   ],
   "source": [
    "myfunc (40,60)"
   ]
  },
  {
   "cell_type": "code",
   "execution_count": 7,
   "id": "4e45b614-3c93-475d-bfa3-021869ddaf1c",
   "metadata": {},
   "outputs": [],
   "source": [
    "# *args allows us to take arbitray number of arguments \n",
    "\n",
    "def myfunc(*args):\n",
    "    return sum(args) * 0.05\n",
    "    "
   ]
  },
  {
   "cell_type": "code",
   "execution_count": 9,
   "id": "60c54af0-68e1-4f5a-a695-1c27bf0041b7",
   "metadata": {},
   "outputs": [
    {
     "data": {
      "text/plain": [
       "80.0"
      ]
     },
     "execution_count": 9,
     "metadata": {},
     "output_type": "execute_result"
    }
   ],
   "source": [
    "#then i can add as many numbers i want on my arguments and get result \n",
    "\n",
    "myfunc(100,400,500,600)"
   ]
  },
  {
   "cell_type": "code",
   "execution_count": 7,
   "id": "b6220f42-3339-40b6-ac05-50a37f42e4fb",
   "metadata": {},
   "outputs": [],
   "source": [
    "# **kwargs function \n",
    "\n",
    "def myfunc (**kwargs):\n",
    "    if 'fruit' in kwargs:\n",
    "        print ('My fruit of choice is {}'.format(kwargs['fruit']))\n",
    "    else:\n",
    "        print ('I did not find any fruit here')\n",
    "        \n",
    "# **kwargs returns a dictionary\n",
    "\n"
   ]
  },
  {
   "cell_type": "code",
   "execution_count": 8,
   "id": "a32d3a05-ad82-4704-be27-69e9dc76ec9e",
   "metadata": {},
   "outputs": [
    {
     "name": "stdout",
     "output_type": "stream",
     "text": [
      "My fruit of choice is apple\n"
     ]
    }
   ],
   "source": [
    "myfunc(fruit='apple', veggie = 'lettuce')"
   ]
  },
  {
   "cell_type": "code",
   "execution_count": 12,
   "id": "df253ed9-d97d-46e8-b637-79ff1bc7d374",
   "metadata": {},
   "outputs": [],
   "source": [
    "# more coding example on *arg function\n",
    "\n",
    "def myfunc(*args):\n",
    "    return len (arg)\n"
   ]
  },
  {
   "cell_type": "code",
   "execution_count": 13,
   "id": "46a7c6ea-1fc2-47bf-a960-5cd260437a30",
   "metadata": {},
   "outputs": [],
   "source": [
    " # example on pick evens function\n",
    "\n",
    "def myfunc (*arg):\n",
    "    return (5,6,7,8)"
   ]
  },
  {
   "cell_type": "code",
   "execution_count": 15,
   "id": "31164f26-57be-4ecf-b8a1-d0e08292dfb4",
   "metadata": {},
   "outputs": [
    {
     "data": {
      "text/plain": [
       "(5, 6, 7, 8)"
      ]
     },
     "execution_count": 15,
     "metadata": {},
     "output_type": "execute_result"
    }
   ],
   "source": [
    "# the even function \n",
    "\n",
    "myfunc (5,6,7,8)"
   ]
  },
  {
   "cell_type": "code",
   "execution_count": null,
   "id": "00fac1f2-6f59-4d2f-8278-fee858d5e6e4",
   "metadata": {},
   "outputs": [],
   "source": []
  }
 ],
 "metadata": {
  "kernelspec": {
   "display_name": "Python [conda env:base] *",
   "language": "python",
   "name": "conda-base-py"
  },
  "language_info": {
   "codemirror_mode": {
    "name": "ipython",
    "version": 3
   },
   "file_extension": ".py",
   "mimetype": "text/x-python",
   "name": "python",
   "nbconvert_exporter": "python",
   "pygments_lexer": "ipython3",
   "version": "3.13.5"
  }
 },
 "nbformat": 4,
 "nbformat_minor": 5
}
