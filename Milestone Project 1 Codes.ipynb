{
 "cells": [
  {
   "cell_type": "code",
   "execution_count": 6,
   "id": "bde44830-b939-4aa6-953e-076ce21b3478",
   "metadata": {},
   "outputs": [],
   "source": [
    "#Displaying information\n",
    "\n",
    "row1= ['','','']\n",
    "row2= ['','','']\n",
    "row3= ['','','']"
   ]
  },
  {
   "cell_type": "code",
   "execution_count": 7,
   "id": "48b36316-7f34-4800-9bbd-2c78e6137481",
   "metadata": {},
   "outputs": [
    {
     "data": {
      "text/plain": [
       "['', '', '']"
      ]
     },
     "metadata": {},
     "output_type": "display_data"
    },
    {
     "data": {
      "text/plain": [
       "['', '', '']"
      ]
     },
     "metadata": {},
     "output_type": "display_data"
    },
    {
     "data": {
      "text/plain": [
       "['', '', '']"
      ]
     },
     "metadata": {},
     "output_type": "display_data"
    }
   ],
   "source": [
    "display (row1, row2, row3)"
   ]
  },
  {
   "cell_type": "code",
   "execution_count": 4,
   "id": "aafd0be8-7be3-4114-b4fa-c054107f3f52",
   "metadata": {},
   "outputs": [],
   "source": [
    "row2[1] = 'X'"
   ]
  },
  {
   "cell_type": "code",
   "execution_count": 5,
   "id": "34e8ad41-f49c-430a-bac3-e4d0997277e0",
   "metadata": {},
   "outputs": [
    {
     "data": {
      "text/plain": [
       "['', '', '']"
      ]
     },
     "metadata": {},
     "output_type": "display_data"
    },
    {
     "data": {
      "text/plain": [
       "['', 'X', '']"
      ]
     },
     "metadata": {},
     "output_type": "display_data"
    },
    {
     "data": {
      "text/plain": [
       "['', '', '']"
      ]
     },
     "metadata": {},
     "output_type": "display_data"
    }
   ],
   "source": [
    "display (row1,row2,row3)"
   ]
  },
  {
   "cell_type": "code",
   "execution_count": 8,
   "id": "7e046367-4e8e-4cba-acd3-830f36bded29",
   "metadata": {},
   "outputs": [
    {
     "name": "stdin",
     "output_type": "stream",
     "text": [
      "Please enter a value:  2\n"
     ]
    },
    {
     "data": {
      "text/plain": [
       "'2'"
      ]
     },
     "execution_count": 8,
     "metadata": {},
     "output_type": "execute_result"
    }
   ],
   "source": [
    "#Accepting User Input\n",
    "\n",
    "input (\"Please enter a value: \")"
   ]
  },
  {
   "cell_type": "code",
   "execution_count": 9,
   "id": "31adce6d-2537-438f-8627-5b787ca97573",
   "metadata": {},
   "outputs": [
    {
     "name": "stdin",
     "output_type": "stream",
     "text": [
      "Please enter a value  2\n"
     ]
    }
   ],
   "source": [
    "# dont display output after user input\n",
    "\n",
    "result= input(\"Please enter a value \")"
   ]
  },
  {
   "cell_type": "code",
   "execution_count": 10,
   "id": "cdddb577-4598-4fab-a69c-aafb183a6319",
   "metadata": {},
   "outputs": [
    {
     "data": {
      "text/plain": [
       "'2'"
      ]
     },
     "execution_count": 10,
     "metadata": {},
     "output_type": "execute_result"
    }
   ],
   "source": [
    "result"
   ]
  },
  {
   "cell_type": "code",
   "execution_count": 4,
   "id": "0f0175d4-f1f8-41a1-bfca-553000f03b12",
   "metadata": {},
   "outputs": [
    {
     "name": "stdin",
     "output_type": "stream",
     "text": [
      "Enter Value:  2\n"
     ]
    }
   ],
   "source": [
    "result =input (\"Enter Value: \")"
   ]
  },
  {
   "cell_type": "code",
   "execution_count": 10,
   "id": "c40e66fc-b88e-490a-bd69-25d1b833b891",
   "metadata": {},
   "outputs": [],
   "source": [
    "# validating User Input \n",
    "\n",
    "def user_choice():\n",
    "    choice =input (\"Please enter a number (0-10): \")\n",
    "    return int(choice)"
   ]
  },
  {
   "cell_type": "code",
   "execution_count": 11,
   "id": "f6aaa915-059d-4a0e-8838-63e8661e1e5e",
   "metadata": {},
   "outputs": [
    {
     "name": "stdin",
     "output_type": "stream",
     "text": [
      "Please enter a number (0-10):  2\n"
     ]
    },
    {
     "data": {
      "text/plain": [
       "2"
      ]
     },
     "execution_count": 11,
     "metadata": {},
     "output_type": "execute_result"
    }
   ],
   "source": [
    "user_choice()"
   ]
  },
  {
   "cell_type": "code",
   "execution_count": null,
   "id": "eb90dd6d-7f37-46df-87da-774a7101d191",
   "metadata": {},
   "outputs": [],
   "source": []
  },
  {
   "cell_type": "code",
   "execution_count": 19,
   "id": "1e706261-983d-4d52-9650-239d6bcb0d58",
   "metadata": {},
   "outputs": [],
   "source": [
    "# validating User Input \n",
    "\n",
    "def user_choice():\n",
    "\n",
    "    choice = 'WRONG'\n",
    "    acceptable_range = range (0,10)\n",
    "    within_range = False\n",
    "\n",
    "\n",
    "#Two conditions to check within_range OR digit ==False\n",
    "    \n",
    "    while choice.isdigit() == False or within_range == False:\n",
    "        choice = input (\"Please enter a number (0-10): \")\n",
    "\n",
    "#Digit Check\n",
    "\n",
    "        if choice.isdigit() == False:\n",
    "            print (\"Sorry that is not a digit!\") \n",
    "\n",
    "#Range Check\n",
    "        if choice.isdigit () == True:\n",
    "            if int(choice) in acceptable_range:\n",
    "                within_range = True\n",
    "            else:\n",
    "                print (\"Sorry, you are out of acceptable rage (0-10)\")\n",
    "                within_range = False\n",
    "            \n",
    "\n",
    "    return int(choice)"
   ]
  },
  {
   "cell_type": "code",
   "execution_count": 20,
   "id": "ac38c718-30e8-452b-ac9c-b746f62d6ad1",
   "metadata": {},
   "outputs": [
    {
     "name": "stdin",
     "output_type": "stream",
     "text": [
      "Please enter a number (0-10):  two\n"
     ]
    },
    {
     "name": "stdout",
     "output_type": "stream",
     "text": [
      "Sorry that is not a digit!\n"
     ]
    },
    {
     "name": "stdin",
     "output_type": "stream",
     "text": [
      "Please enter a number (0-10):  100\n"
     ]
    },
    {
     "name": "stdout",
     "output_type": "stream",
     "text": [
      "Sorry, you are out of acceptable rage (0-10)\n"
     ]
    },
    {
     "name": "stdin",
     "output_type": "stream",
     "text": [
      "Please enter a number (0-10):  8\n"
     ]
    },
    {
     "data": {
      "text/plain": [
       "8"
      ]
     },
     "execution_count": 20,
     "metadata": {},
     "output_type": "execute_result"
    }
   ],
   "source": [
    "user_choice()"
   ]
  },
  {
   "cell_type": "code",
   "execution_count": null,
   "id": "543668b4-cec5-4c0f-8aa4-bf4289046e71",
   "metadata": {},
   "outputs": [],
   "source": [
    " \n",
    "\n",
    "\n"
   ]
  },
  {
   "cell_type": "code",
   "execution_count": null,
   "id": "a7d90f4e-5444-41e8-af7e-005f24d3ff18",
   "metadata": {},
   "outputs": [],
   "source": []
  }
 ],
 "metadata": {
  "kernelspec": {
   "display_name": "Python [conda env:base] *",
   "language": "python",
   "name": "conda-base-py"
  },
  "language_info": {
   "codemirror_mode": {
    "name": "ipython",
    "version": 3
   },
   "file_extension": ".py",
   "mimetype": "text/x-python",
   "name": "python",
   "nbconvert_exporter": "python",
   "pygments_lexer": "ipython3",
   "version": "3.13.5"
  }
 },
 "nbformat": 4,
 "nbformat_minor": 5
}
