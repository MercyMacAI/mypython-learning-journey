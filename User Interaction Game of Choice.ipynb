{
 "cells": [
  {
   "cell_type": "code",
   "execution_count": 2,
   "id": "656d112e-6930-418e-b415-9a0fd4f00a66",
   "metadata": {},
   "outputs": [],
   "source": [
    "#In building an interactive game logic, first i will create a display function\n",
    "\n",
    "game_list = [0,1,2]"
   ]
  },
  {
   "cell_type": "code",
   "execution_count": 3,
   "id": "fa1af6df-9ce2-48ff-96f5-20215545e421",
   "metadata": {},
   "outputs": [],
   "source": [
    "def display_game (game_list):\n",
    "    print (\"Here is the current list: \")\n",
    "    print (game_list)"
   ]
  },
  {
   "cell_type": "code",
   "execution_count": 4,
   "id": "1e6a9138-d89a-4c33-b727-d0399ce9e153",
   "metadata": {},
   "outputs": [
    {
     "name": "stdout",
     "output_type": "stream",
     "text": [
      "Here is the current list: \n",
      "[0, 1, 2]\n"
     ]
    }
   ],
   "source": [
    "display_game(game_list)"
   ]
  },
  {
   "cell_type": "code",
   "execution_count": 8,
   "id": "b7760710-b299-42b3-bf90-1b3a3ae62fcf",
   "metadata": {},
   "outputs": [],
   "source": [
    "#Second function is on position choice for the game players \n",
    "\n",
    "def position_choice():\n",
    "    choice ='wrong'\n",
    "    while choice not in ['0','1','2']:\n",
    "        choice =input (\"Pick a position (0,1,2): \")\n",
    "        if choice not in ['0','1','2']:\n",
    "            print (\"Sorry, Invalid Choice! \")\n",
    "    return int (choice)"
   ]
  },
  {
   "cell_type": "code",
   "execution_count": 9,
   "id": "8d3ba545-681b-4f44-8247-05c3afabaf9d",
   "metadata": {},
   "outputs": [
    {
     "name": "stdin",
     "output_type": "stream",
     "text": [
      "Pick a position (0,1,2):  two\n"
     ]
    },
    {
     "name": "stdout",
     "output_type": "stream",
     "text": [
      "Sorry, Invalid Choice! \n"
     ]
    },
    {
     "name": "stdin",
     "output_type": "stream",
     "text": [
      "Pick a position (0,1,2):  24\n"
     ]
    },
    {
     "name": "stdout",
     "output_type": "stream",
     "text": [
      "Sorry, Invalid Choice! \n"
     ]
    },
    {
     "name": "stdin",
     "output_type": "stream",
     "text": [
      "Pick a position (0,1,2):  2\n"
     ]
    },
    {
     "data": {
      "text/plain": [
       "2"
      ]
     },
     "execution_count": 9,
     "metadata": {},
     "output_type": "execute_result"
    }
   ],
   "source": [
    "position_choice ()"
   ]
  },
  {
   "cell_type": "code",
   "execution_count": 10,
   "id": "a03af394-c789-45e3-b2f4-cb243f69e8ab",
   "metadata": {},
   "outputs": [],
   "source": [
    "#Third step is to build a replacement choice function\n",
    "\n",
    "def replacement_choice (gamme_list, Position):\n",
    "    user_placement =input(\"Type a String to Place at Position: \")\n",
    "    game_list [Position] = user_placement\n",
    "    return game_list"
   ]
  },
  {
   "cell_type": "code",
   "execution_count": 11,
   "id": "360be61e-a8e3-4958-bc6b-67ce5ab4de4c",
   "metadata": {},
   "outputs": [
    {
     "name": "stdin",
     "output_type": "stream",
     "text": [
      "Type a String to Place at Position:  test\n"
     ]
    },
    {
     "data": {
      "text/plain": [
       "[0, 'test', 2]"
      ]
     },
     "execution_count": 11,
     "metadata": {},
     "output_type": "execute_result"
    }
   ],
   "source": [
    "replacement_choice (game_list,1)"
   ]
  },
  {
   "cell_type": "code",
   "execution_count": 12,
   "id": "10a8fd36-e26e-49bb-9e56-ecc73b71bf27",
   "metadata": {},
   "outputs": [],
   "source": [
    "#Fourth is game on choice for the game players \n",
    "\n",
    "def gameon_choice():\n",
    "    choice ='wrong'\n",
    "    while choice not in ['Y','N']:\n",
    "        choice =input (\"Keep playing? (Y or N) \")\n",
    "        if choice not in ['Y','N']:\n",
    "            print (\"Sorry, I dont understand, please chose Y or N \")\n",
    "\n",
    "        if choice ==\"Y\":\n",
    "            return True\n",
    "        else:\n",
    "            return False\n",
    "    "
   ]
  },
  {
   "cell_type": "code",
   "execution_count": 14,
   "id": "ab421634-6d3c-4954-85fd-a9b746872499",
   "metadata": {},
   "outputs": [
    {
     "name": "stdin",
     "output_type": "stream",
     "text": [
      "Keep playing? (Y or N)  Y\n"
     ]
    },
    {
     "data": {
      "text/plain": [
       "True"
      ]
     },
     "execution_count": 14,
     "metadata": {},
     "output_type": "execute_result"
    }
   ],
   "source": [
    "gameon_choice()"
   ]
  },
  {
   "cell_type": "code",
   "execution_count": 15,
   "id": "f35ac2b6-cfbc-4c7c-844f-fffce8a3da78",
   "metadata": {},
   "outputs": [
    {
     "name": "stdout",
     "output_type": "stream",
     "text": [
      "Here is the current list: \n",
      "[0, 1, 2]\n"
     ]
    },
    {
     "name": "stdin",
     "output_type": "stream",
     "text": [
      "Pick a position (0,1,2):  two\n"
     ]
    },
    {
     "name": "stdout",
     "output_type": "stream",
     "text": [
      "Sorry, Invalid Choice! \n"
     ]
    },
    {
     "name": "stdin",
     "output_type": "stream",
     "text": [
      "Pick a position (0,1,2):  2\n",
      "Type a String to Place at Position:  mercy\n"
     ]
    },
    {
     "name": "stdout",
     "output_type": "stream",
     "text": [
      "Here is the current list: \n",
      "[0, 1, 'mercy']\n"
     ]
    },
    {
     "name": "stdin",
     "output_type": "stream",
     "text": [
      "Keep playing? (Y or N)  Y\n"
     ]
    },
    {
     "name": "stdout",
     "output_type": "stream",
     "text": [
      "Here is the current list: \n",
      "[0, 1, 'mercy']\n"
     ]
    },
    {
     "name": "stdin",
     "output_type": "stream",
     "text": [
      "Pick a position (0,1,2):  1\n",
      "Type a String to Place at Position:  Favour\n"
     ]
    },
    {
     "name": "stdout",
     "output_type": "stream",
     "text": [
      "Here is the current list: \n",
      "[0, 'Favour', 'mercy']\n"
     ]
    },
    {
     "name": "stdin",
     "output_type": "stream",
     "text": [
      "Keep playing? (Y or N)  Y\n"
     ]
    },
    {
     "name": "stdout",
     "output_type": "stream",
     "text": [
      "Here is the current list: \n",
      "[0, 'Favour', 'mercy']\n"
     ]
    },
    {
     "name": "stdin",
     "output_type": "stream",
     "text": [
      "Pick a position (0,1,2):  0\n",
      "Type a String to Place at Position:  Faithful\n"
     ]
    },
    {
     "name": "stdout",
     "output_type": "stream",
     "text": [
      "Here is the current list: \n",
      "['Faithful', 'Favour', 'mercy']\n"
     ]
    },
    {
     "name": "stdin",
     "output_type": "stream",
     "text": [
      "Keep playing? (Y or N)  N\n"
     ]
    }
   ],
   "source": [
    "#Now putting the four functions together for our game of choice\n",
    "\n",
    "game_on = True\n",
    "\n",
    "game_list =[0,1,2]\n",
    "\n",
    "while game_on:\n",
    "    display_game(game_list)\n",
    "   \n",
    "    position =position_choice()\n",
    "    \n",
    "    game_list = replacement_choice (game_list, position)\n",
    "   \n",
    "    display_game(game_list)\n",
    "   \n",
    "    game_on =gameon_choice()\n"
   ]
  },
  {
   "cell_type": "code",
   "execution_count": null,
   "id": "b85ffc20-83f1-4678-bd01-e2cc51a09761",
   "metadata": {},
   "outputs": [],
   "source": []
  }
 ],
 "metadata": {
  "kernelspec": {
   "display_name": "Python [conda env:base] *",
   "language": "python",
   "name": "conda-base-py"
  },
  "language_info": {
   "codemirror_mode": {
    "name": "ipython",
    "version": 3
   },
   "file_extension": ".py",
   "mimetype": "text/x-python",
   "name": "python",
   "nbconvert_exporter": "python",
   "pygments_lexer": "ipython3",
   "version": "3.13.5"
  }
 },
 "nbformat": 4,
 "nbformat_minor": 5
}
