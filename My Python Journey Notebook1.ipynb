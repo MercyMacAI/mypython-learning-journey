{
 "cells": [
  {
   "cell_type": "code",
   "execution_count": 1,
   "id": "6a6a1f37-a47e-448b-a7ec-b3c5a6cd4c02",
   "metadata": {},
   "outputs": [
    {
     "data": {
      "text/plain": [
       "3"
      ]
     },
     "execution_count": 1,
     "metadata": {},
     "output_type": "execute_result"
    }
   ],
   "source": [
    "2+1"
   ]
  },
  {
   "cell_type": "code",
   "execution_count": 2,
   "id": "6018efc6-8304-44b0-b606-338f542913b3",
   "metadata": {},
   "outputs": [
    {
     "data": {
      "text/plain": [
       "1"
      ]
     },
     "execution_count": 2,
     "metadata": {},
     "output_type": "execute_result"
    }
   ],
   "source": [
    "2-1"
   ]
  },
  {
   "cell_type": "code",
   "execution_count": 3,
   "id": "b445d303-8cda-4c8d-acd4-53595d3570cf",
   "metadata": {},
   "outputs": [
    {
     "data": {
      "text/plain": [
       "4"
      ]
     },
     "execution_count": 3,
     "metadata": {},
     "output_type": "execute_result"
    }
   ],
   "source": [
    "2*2"
   ]
  },
  {
   "cell_type": "code",
   "execution_count": 4,
   "id": "8357441f-2eb9-4625-b544-71bea031f747",
   "metadata": {},
   "outputs": [
    {
     "data": {
      "text/plain": [
       "1.5"
      ]
     },
     "execution_count": 4,
     "metadata": {},
     "output_type": "execute_result"
    }
   ],
   "source": [
    "3/2"
   ]
  },
  {
   "cell_type": "markdown",
   "id": "5e0b9447-1e8b-4cb3-b043-2ea2d26e45f5",
   "metadata": {},
   "source": [
    "Modulo or Mod Operator (%)"
   ]
  },
  {
   "cell_type": "code",
   "execution_count": 5,
   "id": "26ceb40e-1ab8-4a5b-9412-34b3615e8969",
   "metadata": {},
   "outputs": [
    {
     "data": {
      "text/plain": [
       "1.75"
      ]
     },
     "execution_count": 5,
     "metadata": {},
     "output_type": "execute_result"
    }
   ],
   "source": [
    "7/4"
   ]
  },
  {
   "cell_type": "markdown",
   "id": "54adb8f0-dcee-4a43-b9ea-736b99f5229f",
   "metadata": {},
   "source": [
    "when 7 is divided by 4, it goes round once and remain 3"
   ]
  },
  {
   "cell_type": "code",
   "execution_count": 6,
   "id": "8e635040-57a2-4451-8ab7-635720f23b87",
   "metadata": {},
   "outputs": [
    {
     "data": {
      "text/plain": [
       "3"
      ]
     },
     "execution_count": 6,
     "metadata": {},
     "output_type": "execute_result"
    }
   ],
   "source": [
    "7%4"
   ]
  },
  {
   "cell_type": "code",
   "execution_count": 7,
   "id": "6acf2a8c-e60a-4a9c-b696-38c7c7b1abbe",
   "metadata": {},
   "outputs": [
    {
     "data": {
      "text/plain": [
       "0"
      ]
     },
     "execution_count": 7,
     "metadata": {},
     "output_type": "execute_result"
    }
   ],
   "source": [
    "50%5"
   ]
  },
  {
   "cell_type": "markdown",
   "id": "efea0f2b-9efb-41a4-be0a-1399b6ea6df5",
   "metadata": {},
   "source": [
    "what 50%5 means is that 5 goes round and remains nothing "
   ]
  },
  {
   "cell_type": "markdown",
   "id": "0eaad387-86b7-46a6-b8d1-82a6b28fc14c",
   "metadata": {},
   "source": [
    "another maths to perform is Power **"
   ]
  },
  {
   "cell_type": "code",
   "execution_count": 8,
   "id": "4fe5cc21-9916-431b-8d27-60e0fc92b82c",
   "metadata": {},
   "outputs": [
    {
     "data": {
      "text/plain": [
       "8"
      ]
     },
     "execution_count": 8,
     "metadata": {},
     "output_type": "execute_result"
    }
   ],
   "source": [
    "2 ** 3"
   ]
  },
  {
   "cell_type": "code",
   "execution_count": 5,
   "id": "7ddb7797-fa96-4cbf-8d14-3999baa9a504",
   "metadata": {},
   "outputs": [],
   "source": [
    "a = 5"
   ]
  },
  {
   "cell_type": "code",
   "execution_count": 6,
   "id": "02ff2085-6156-4a5f-998e-199c470988ce",
   "metadata": {},
   "outputs": [
    {
     "data": {
      "text/plain": [
       "5"
      ]
     },
     "execution_count": 6,
     "metadata": {},
     "output_type": "execute_result"
    }
   ],
   "source": [
    "a"
   ]
  },
  {
   "cell_type": "code",
   "execution_count": 7,
   "id": "d824e3c2-e1b6-436a-9380-7d31e1788686",
   "metadata": {},
   "outputs": [],
   "source": [
    "a = 10"
   ]
  },
  {
   "cell_type": "code",
   "execution_count": 8,
   "id": "75fb53e5-294d-4751-991b-08468355f8c7",
   "metadata": {},
   "outputs": [
    {
     "data": {
      "text/plain": [
       "10"
      ]
     },
     "execution_count": 8,
     "metadata": {},
     "output_type": "execute_result"
    }
   ],
   "source": [
    "a"
   ]
  },
  {
   "cell_type": "code",
   "execution_count": 9,
   "id": "9320639a-fa10-4582-bedd-e0ff054efbdc",
   "metadata": {},
   "outputs": [
    {
     "data": {
      "text/plain": [
       "20"
      ]
     },
     "execution_count": 9,
     "metadata": {},
     "output_type": "execute_result"
    }
   ],
   "source": [
    "a + a"
   ]
  },
  {
   "cell_type": "code",
   "execution_count": 10,
   "id": "e1b206ea-1503-4733-abaf-4b75d8725ebc",
   "metadata": {},
   "outputs": [],
   "source": [
    "a = a+a"
   ]
  },
  {
   "cell_type": "code",
   "execution_count": 11,
   "id": "18083c0e-3bf6-4932-8b7d-ca83aff0be27",
   "metadata": {},
   "outputs": [
    {
     "data": {
      "text/plain": [
       "20"
      ]
     },
     "execution_count": 11,
     "metadata": {},
     "output_type": "execute_result"
    }
   ],
   "source": [
    "a"
   ]
  },
  {
   "cell_type": "code",
   "execution_count": 12,
   "id": "e98f9873-61a1-4199-88eb-8e5285d973eb",
   "metadata": {},
   "outputs": [
    {
     "data": {
      "text/plain": [
       "int"
      ]
     },
     "execution_count": 12,
     "metadata": {},
     "output_type": "execute_result"
    }
   ],
   "source": [
    "type(a)"
   ]
  },
  {
   "cell_type": "code",
   "execution_count": 13,
   "id": "9efcb231-24f8-426e-b660-8cd2d0e88f70",
   "metadata": {},
   "outputs": [],
   "source": [
    "a = 30.1"
   ]
  },
  {
   "cell_type": "code",
   "execution_count": 14,
   "id": "f76422f2-bf2b-49cb-8f97-fbddbdcfc4e6",
   "metadata": {},
   "outputs": [
    {
     "data": {
      "text/plain": [
       "float"
      ]
     },
     "execution_count": 14,
     "metadata": {},
     "output_type": "execute_result"
    }
   ],
   "source": [
    "type(a)"
   ]
  },
  {
   "cell_type": "code",
   "execution_count": 15,
   "id": "26e97ab5-dcff-46ca-80c2-5ee6c79ab449",
   "metadata": {},
   "outputs": [],
   "source": [
    "my_income = 100 \n",
    "\n",
    "tax_rate = 0.1\n",
    "\n",
    "my_taxes = my_income * tax_rate"
   ]
  },
  {
   "cell_type": "code",
   "execution_count": 16,
   "id": "a5050c08-59fa-4026-8ced-fa654b05fbcf",
   "metadata": {},
   "outputs": [
    {
     "data": {
      "text/plain": [
       "10.0"
      ]
     },
     "execution_count": 16,
     "metadata": {},
     "output_type": "execute_result"
    }
   ],
   "source": [
    "my_taxes "
   ]
  },
  {
   "cell_type": "code",
   "execution_count": 17,
   "id": "fe81fa3c-7434-452e-a1a7-ffa8b1b1e82e",
   "metadata": {},
   "outputs": [
    {
     "data": {
      "text/plain": [
       "'hello'"
      ]
     },
     "execution_count": 17,
     "metadata": {},
     "output_type": "execute_result"
    }
   ],
   "source": [
    "'hello'"
   ]
  },
  {
   "cell_type": "code",
   "execution_count": 18,
   "id": "07565981-d80d-4c8f-bb47-212aa2ecc7c4",
   "metadata": {},
   "outputs": [
    {
     "data": {
      "text/plain": [
       "'Hello'"
      ]
     },
     "execution_count": 18,
     "metadata": {},
     "output_type": "execute_result"
    }
   ],
   "source": [
    "\"Hello\""
   ]
  },
  {
   "cell_type": "code",
   "execution_count": 19,
   "id": "23bae2e8-b877-4d32-9317-7f79464f0e3a",
   "metadata": {},
   "outputs": [
    {
     "data": {
      "text/plain": [
       "'this is also a string'"
      ]
     },
     "execution_count": 19,
     "metadata": {},
     "output_type": "execute_result"
    }
   ],
   "source": [
    "'this is also a string'"
   ]
  },
  {
   "cell_type": "code",
   "execution_count": 22,
   "id": "03200639-1f40-4e1b-be1e-f7cfa3061681",
   "metadata": {},
   "outputs": [
    {
     "name": "stdout",
     "output_type": "stream",
     "text": [
      "I'm going on a run\n"
     ]
    }
   ],
   "source": [
    "print (\"I'm going on a run\")"
   ]
  },
  {
   "cell_type": "code",
   "execution_count": 23,
   "id": "d00b599d-43bf-424e-b4dc-e7b5788f8230",
   "metadata": {},
   "outputs": [
    {
     "name": "stdout",
     "output_type": "stream",
     "text": [
      "Helo \n",
      "world\n"
     ]
    }
   ],
   "source": [
    "print (\"Helo \\nworld\")"
   ]
  },
  {
   "cell_type": "code",
   "execution_count": 24,
   "id": "d77f8b6d-0f00-49f0-9f4c-41a1918798c7",
   "metadata": {},
   "outputs": [
    {
     "name": "stdout",
     "output_type": "stream",
     "text": [
      "Hello \n",
      " world\n"
     ]
    }
   ],
   "source": [
    "print ('Hello \\n world')"
   ]
  },
  {
   "cell_type": "code",
   "execution_count": 25,
   "id": "4f4f57ab-0ba5-45d1-abbe-2a146ca503f4",
   "metadata": {},
   "outputs": [
    {
     "name": "stdout",
     "output_type": "stream",
     "text": [
      "Hello World\n"
     ]
    }
   ],
   "source": [
    "print (\"Hello World\")"
   ]
  },
  {
   "cell_type": "code",
   "execution_count": 26,
   "id": "050842ca-5545-4688-bf9b-890e5c623b93",
   "metadata": {},
   "outputs": [
    {
     "data": {
      "text/plain": [
       "'Hello World'"
      ]
     },
     "execution_count": 26,
     "metadata": {},
     "output_type": "execute_result"
    }
   ],
   "source": [
    "\"Hello World\""
   ]
  },
  {
   "cell_type": "code",
   "execution_count": 27,
   "id": "f8341b8a-f6ac-432c-bbb2-b42518aa344a",
   "metadata": {},
   "outputs": [],
   "source": [
    "mystring = \"Hello World\""
   ]
  },
  {
   "cell_type": "code",
   "execution_count": 28,
   "id": "2e1a492b-4280-4743-9203-b72ce2cc671f",
   "metadata": {},
   "outputs": [
    {
     "data": {
      "text/plain": [
       "'Hello World'"
      ]
     },
     "execution_count": 28,
     "metadata": {},
     "output_type": "execute_result"
    }
   ],
   "source": [
    "mystring"
   ]
  },
  {
   "cell_type": "code",
   "execution_count": 29,
   "id": "a396ae8e-7c6c-4609-bb51-55cb84702706",
   "metadata": {},
   "outputs": [
    {
     "data": {
      "text/plain": [
       "'H'"
      ]
     },
     "execution_count": 29,
     "metadata": {},
     "output_type": "execute_result"
    }
   ],
   "source": [
    "mystring[0]"
   ]
  },
  {
   "cell_type": "code",
   "execution_count": 30,
   "id": "26134282-536a-43b1-a23f-7dd508c15199",
   "metadata": {},
   "outputs": [
    {
     "data": {
      "text/plain": [
       "'r'"
      ]
     },
     "execution_count": 30,
     "metadata": {},
     "output_type": "execute_result"
    }
   ],
   "source": [
    "mystring[8]"
   ]
  },
  {
   "cell_type": "code",
   "execution_count": 31,
   "id": "3fb6c6f8-8c5e-4f85-b554-934310d416da",
   "metadata": {},
   "outputs": [
    {
     "data": {
      "text/plain": [
       "'l'"
      ]
     },
     "execution_count": 31,
     "metadata": {},
     "output_type": "execute_result"
    }
   ],
   "source": [
    "mystring[-2]"
   ]
  },
  {
   "cell_type": "code",
   "execution_count": 32,
   "id": "eada08d1-313d-4b54-905e-94826d4c9617",
   "metadata": {},
   "outputs": [
    {
     "data": {
      "text/plain": [
       "'d'"
      ]
     },
     "execution_count": 32,
     "metadata": {},
     "output_type": "execute_result"
    }
   ],
   "source": [
    "mystring[-1]"
   ]
  },
  {
   "cell_type": "code",
   "execution_count": 33,
   "id": "cda0fc00-867e-4628-8a42-b03aa7174c15",
   "metadata": {},
   "outputs": [
    {
     "data": {
      "text/plain": [
       "'llo World'"
      ]
     },
     "execution_count": 33,
     "metadata": {},
     "output_type": "execute_result"
    }
   ],
   "source": [
    "mystring[2:]"
   ]
  },
  {
   "cell_type": "code",
   "execution_count": 34,
   "id": "d37ba0a7-8c66-4ce2-88fd-7fd0af7cdfdf",
   "metadata": {},
   "outputs": [],
   "source": [
    "mystring = \"mercyakachukwu is a woman\""
   ]
  },
  {
   "cell_type": "code",
   "execution_count": 35,
   "id": "134cb448-7c39-452b-9b05-a9f2964536a0",
   "metadata": {},
   "outputs": [
    {
     "data": {
      "text/plain": [
       "'mercyakachukwu is a woman'"
      ]
     },
     "execution_count": 35,
     "metadata": {},
     "output_type": "execute_result"
    }
   ],
   "source": [
    "mystring"
   ]
  },
  {
   "cell_type": "code",
   "execution_count": 36,
   "id": "4fc708bd-636f-478d-92c4-3bbff59c7095",
   "metadata": {},
   "outputs": [
    {
     "data": {
      "text/plain": [
       "'cyaka'"
      ]
     },
     "execution_count": 36,
     "metadata": {},
     "output_type": "execute_result"
    }
   ],
   "source": [
    "mystring[3:8]"
   ]
  },
  {
   "cell_type": "code",
   "execution_count": 43,
   "id": "45e6843b-e5ac-4b78-b3cf-696502512d3f",
   "metadata": {},
   "outputs": [
    {
     "data": {
      "text/plain": [
       "' woma'"
      ]
     },
     "execution_count": 43,
     "metadata": {},
     "output_type": "execute_result"
    }
   ],
   "source": [
    "mystring[-6:-1]"
   ]
  },
  {
   "cell_type": "code",
   "execution_count": 44,
   "id": "dab5e57c-e63b-4305-b7d0-54979e7f8e73",
   "metadata": {},
   "outputs": [
    {
     "data": {
      "text/plain": [
       "'mercyakachukwu is a woman'"
      ]
     },
     "execution_count": 44,
     "metadata": {},
     "output_type": "execute_result"
    }
   ],
   "source": [
    "mystring[::]"
   ]
  },
  {
   "cell_type": "code",
   "execution_count": 45,
   "id": "23ef5e05-6537-452f-8bff-7440699a73b3",
   "metadata": {},
   "outputs": [],
   "source": [
    "mystring = \"abcdefghijk\""
   ]
  },
  {
   "cell_type": "code",
   "execution_count": 46,
   "id": "2cbb42a0-8a94-4d26-81e4-3a6f0695d472",
   "metadata": {},
   "outputs": [
    {
     "data": {
      "text/plain": [
       "'abcdefghijk'"
      ]
     },
     "execution_count": 46,
     "metadata": {},
     "output_type": "execute_result"
    }
   ],
   "source": [
    "mystring"
   ]
  },
  {
   "cell_type": "code",
   "execution_count": 47,
   "id": "8a041322-cce6-4519-a3f3-ed9e4fe5ca7f",
   "metadata": {},
   "outputs": [
    {
     "data": {
      "text/plain": [
       "'abcdefghijk'"
      ]
     },
     "execution_count": 47,
     "metadata": {},
     "output_type": "execute_result"
    }
   ],
   "source": [
    "mystring[::]"
   ]
  },
  {
   "cell_type": "markdown",
   "id": "6c005670-b963-40c8-937f-0f05c174ee72",
   "metadata": {},
   "source": [
    "to reverse a string use {::-1]"
   ]
  },
  {
   "cell_type": "code",
   "execution_count": 48,
   "id": "2abbe61d-3434-4a9b-bfee-de978e8aef79",
   "metadata": {},
   "outputs": [
    {
     "data": {
      "text/plain": [
       "'kjihgfedcba'"
      ]
     },
     "execution_count": 48,
     "metadata": {},
     "output_type": "execute_result"
    }
   ],
   "source": [
    "mystring[::-1]"
   ]
  },
  {
   "cell_type": "code",
   "execution_count": 49,
   "id": "98013939-e400-4e06-afc0-9727dbc393b2",
   "metadata": {},
   "outputs": [],
   "source": [
    "mystring = \"Hello World\""
   ]
  },
  {
   "cell_type": "code",
   "execution_count": 50,
   "id": "f5b82e94-690e-4d81-b1e0-e78c9c0f45bf",
   "metadata": {},
   "outputs": [
    {
     "data": {
      "text/plain": [
       "'Hello World'"
      ]
     },
     "execution_count": 50,
     "metadata": {},
     "output_type": "execute_result"
    }
   ],
   "source": [
    "mystring"
   ]
  },
  {
   "cell_type": "code",
   "execution_count": 51,
   "id": "7813ed7c-2498-4b3b-ad49-d3e0e652d7c9",
   "metadata": {},
   "outputs": [
    {
     "data": {
      "text/plain": [
       "'r'"
      ]
     },
     "execution_count": 51,
     "metadata": {},
     "output_type": "execute_result"
    }
   ],
   "source": [
    "\"Hello World\" [8]"
   ]
  },
  {
   "cell_type": "code",
   "execution_count": 52,
   "id": "cf9fa623-b52d-4d18-b4cd-298a931fc145",
   "metadata": {},
   "outputs": [],
   "source": [
    "mystring = \"tinker\""
   ]
  },
  {
   "cell_type": "code",
   "execution_count": 53,
   "id": "811a0714-76e6-47fe-b285-9c3688d466b4",
   "metadata": {},
   "outputs": [
    {
     "data": {
      "text/plain": [
       "'tinker'"
      ]
     },
     "execution_count": 53,
     "metadata": {},
     "output_type": "execute_result"
    }
   ],
   "source": [
    "mystring"
   ]
  },
  {
   "cell_type": "code",
   "execution_count": 54,
   "id": "bafe614a-af5c-4f9f-a095-75bd3768c0d0",
   "metadata": {},
   "outputs": [
    {
     "data": {
      "text/plain": [
       "'ink'"
      ]
     },
     "execution_count": 54,
     "metadata": {},
     "output_type": "execute_result"
    }
   ],
   "source": [
    "\"tinker\" [1:4]"
   ]
  },
  {
   "cell_type": "code",
   "execution_count": 55,
   "id": "03ed8513-bc58-48a0-8640-ddb3204f4cb6",
   "metadata": {},
   "outputs": [],
   "source": [
    "x = 'Hello World'"
   ]
  },
  {
   "cell_type": "code",
   "execution_count": 57,
   "id": "ea928bd2-1f78-4c87-a918-9f5a162c2037",
   "metadata": {},
   "outputs": [
    {
     "data": {
      "text/plain": [
       "'Hello World It is beautiful outside'"
      ]
     },
     "execution_count": 57,
     "metadata": {},
     "output_type": "execute_result"
    }
   ],
   "source": [
    "x + \" It is beautiful outside\""
   ]
  },
  {
   "cell_type": "code",
   "execution_count": 65,
   "id": "3efb5926-d562-48d7-8818-e8c0312df13f",
   "metadata": {},
   "outputs": [],
   "source": [
    "x = 'Hello World'"
   ]
  },
  {
   "cell_type": "code",
   "execution_count": 66,
   "id": "cefe7031-8b5c-4c41-a163-dd8a85b3f3c0",
   "metadata": {},
   "outputs": [
    {
     "data": {
      "text/plain": [
       "'Hello World'"
      ]
     },
     "execution_count": 66,
     "metadata": {},
     "output_type": "execute_result"
    }
   ],
   "source": [
    "x "
   ]
  },
  {
   "cell_type": "code",
   "execution_count": 67,
   "id": "7bca6c5f-d2d9-49a4-b324-26788fc4e17d",
   "metadata": {},
   "outputs": [
    {
     "data": {
      "text/plain": [
       "'HELLO WORLD'"
      ]
     },
     "execution_count": 67,
     "metadata": {},
     "output_type": "execute_result"
    }
   ],
   "source": [
    "x.upper()"
   ]
  },
  {
   "cell_type": "code",
   "execution_count": 68,
   "id": "9687371d-dc71-4cfc-8d2f-b64d657e0a93",
   "metadata": {},
   "outputs": [
    {
     "data": {
      "text/plain": [
       "'hello world'"
      ]
     },
     "execution_count": 68,
     "metadata": {},
     "output_type": "execute_result"
    }
   ],
   "source": [
    "x.lower()"
   ]
  },
  {
   "cell_type": "code",
   "execution_count": 69,
   "id": "023f1ea3-9a9a-4629-8468-5e07f91a9931",
   "metadata": {},
   "outputs": [
    {
     "data": {
      "text/plain": [
       "['Hello', 'World']"
      ]
     },
     "execution_count": 69,
     "metadata": {},
     "output_type": "execute_result"
    }
   ],
   "source": [
    "x.split()"
   ]
  },
  {
   "cell_type": "code",
   "execution_count": 70,
   "id": "0ada155b-fef6-4c9e-a174-3ff31393c483",
   "metadata": {},
   "outputs": [],
   "source": [
    "x = 'Hi this is a string'"
   ]
  },
  {
   "cell_type": "code",
   "execution_count": 71,
   "id": "f35e9d79-fbdd-4f35-bc68-45decefb26b7",
   "metadata": {},
   "outputs": [
    {
     "data": {
      "text/plain": [
       "'Hi this is a string'"
      ]
     },
     "execution_count": 71,
     "metadata": {},
     "output_type": "execute_result"
    }
   ],
   "source": [
    "x"
   ]
  },
  {
   "cell_type": "code",
   "execution_count": 72,
   "id": "149a2eb3-56f9-4a41-939f-bbee40a89870",
   "metadata": {},
   "outputs": [],
   "source": [
    "# Code on formatting with .format{} method"
   ]
  },
  {
   "cell_type": "code",
   "execution_count": 77,
   "id": "6b289d7f-ef49-4380-89cf-e2376da467b8",
   "metadata": {},
   "outputs": [
    {
     "name": "stdout",
     "output_type": "stream",
     "text": [
      "this is a stringINSERTED\n"
     ]
    }
   ],
   "source": [
    "print ('this is a string{}'  .format('INSERTED'))"
   ]
  },
  {
   "cell_type": "code",
   "execution_count": 79,
   "id": "5091a2eb-6827-4cc3-868c-dbadd183f2d9",
   "metadata": {},
   "outputs": [
    {
     "name": "stdout",
     "output_type": "stream",
     "text": [
      "this quick brown fox\n"
     ]
    }
   ],
   "source": [
    "print ('this {2} {1} {0}' .format('fox', 'brown', 'quick'))"
   ]
  },
  {
   "cell_type": "code",
   "execution_count": 80,
   "id": "7e71d5ce-ffda-4919-93d3-fca4c1234bbe",
   "metadata": {},
   "outputs": [],
   "source": [
    "# option 2 in print formatting is the float formatting "
   ]
  },
  {
   "cell_type": "code",
   "execution_count": 81,
   "id": "2024dc91-1e4d-421f-8272-9c401a6184d4",
   "metadata": {},
   "outputs": [],
   "source": [
    "result = 100/777"
   ]
  },
  {
   "cell_type": "code",
   "execution_count": 82,
   "id": "72b49d50-cacd-4782-8d91-00622a18b6e7",
   "metadata": {},
   "outputs": [
    {
     "data": {
      "text/plain": [
       "0.1287001287001287"
      ]
     },
     "execution_count": 82,
     "metadata": {},
     "output_type": "execute_result"
    }
   ],
   "source": [
    "result"
   ]
  },
  {
   "cell_type": "code",
   "execution_count": 85,
   "id": "fa06a9ea-5c3c-4e65-a1ef-38c8f8d8c585",
   "metadata": {},
   "outputs": [
    {
     "name": "stdout",
     "output_type": "stream",
     "text": [
      "the result was 0.1287001287001287\n"
     ]
    }
   ],
   "source": [
    "print (\"the result was {}\" .format(result))"
   ]
  },
  {
   "cell_type": "code",
   "execution_count": 86,
   "id": "0a22b1b9-c2f8-49e7-91ff-7dcf73b45068",
   "metadata": {},
   "outputs": [],
   "source": [
    "# learning f string for print function"
   ]
  },
  {
   "cell_type": "code",
   "execution_count": 92,
   "id": "fdc4afcf-d5a3-46f2-ae91-f449c559409f",
   "metadata": {},
   "outputs": [],
   "source": [
    "name = \"Mercy Akachukwu Fred-Ekhose\""
   ]
  },
  {
   "cell_type": "code",
   "execution_count": 93,
   "id": "febc4feb-a66d-4222-824b-d8a6696ffe4f",
   "metadata": {},
   "outputs": [
    {
     "name": "stdout",
     "output_type": "stream",
     "text": [
      "Hello, his name is Mercy Akachukwu Fred-Ekhose\n"
     ]
    }
   ],
   "source": [
    "print (f'Hello, his name is {name}')"
   ]
  },
  {
   "cell_type": "code",
   "execution_count": 99,
   "id": "b9b31e73-213e-447f-af92-6508be838585",
   "metadata": {},
   "outputs": [],
   "source": [
    "name = \"Mercy Akachukwu Fred-Ekhose\"\n",
    "age = 30  "
   ]
  },
  {
   "cell_type": "code",
   "execution_count": 100,
   "id": "e306e5a3-7514-4ced-8380-203a2448a185",
   "metadata": {},
   "outputs": [
    {
     "name": "stdout",
     "output_type": "stream",
     "text": [
      "Mercy Akachukwu Fred-Ekhose is 30 plus years old.\n"
     ]
    }
   ],
   "source": [
    "print (f'{name} is {age} plus years old.')"
   ]
  },
  {
   "cell_type": "code",
   "execution_count": 101,
   "id": "3ea44634-1c9b-430f-a0db-7e8d8511fca1",
   "metadata": {},
   "outputs": [],
   "source": [
    "#coding session on List, which is an ordered sequence that can hold a variety of object types."
   ]
  },
  {
   "cell_type": "code",
   "execution_count": 103,
   "id": "49315c83-26fa-4cf0-9444-455ebdd0ea5c",
   "metadata": {},
   "outputs": [],
   "source": [
    "my_list = [1,2,3,4]"
   ]
  },
  {
   "cell_type": "code",
   "execution_count": 104,
   "id": "8a58041f-8653-4335-bea6-fccbccadc7b5",
   "metadata": {},
   "outputs": [],
   "source": [
    "my_list = ['string', 100, 23.2]"
   ]
  },
  {
   "cell_type": "code",
   "execution_count": 105,
   "id": "2de3ef9e-9555-4357-9cdc-4e293ca7f24c",
   "metadata": {},
   "outputs": [],
   "source": [
    "#Slicing & Indexing on list"
   ]
  },
  {
   "cell_type": "code",
   "execution_count": 106,
   "id": "604501c2-a3b5-4926-8ef9-dce265893c07",
   "metadata": {},
   "outputs": [],
   "source": [
    "mylist = ['one', 'two', 'three']"
   ]
  },
  {
   "cell_type": "code",
   "execution_count": 107,
   "id": "118b5b51-d791-4c79-b05b-ff9af4b1d7f3",
   "metadata": {},
   "outputs": [
    {
     "data": {
      "text/plain": [
       "['one', 'two', 'three']"
      ]
     },
     "execution_count": 107,
     "metadata": {},
     "output_type": "execute_result"
    }
   ],
   "source": [
    "mylist"
   ]
  },
  {
   "cell_type": "code",
   "execution_count": 108,
   "id": "6382be3a-ba2b-4e04-8c08-df588c7b752a",
   "metadata": {},
   "outputs": [
    {
     "data": {
      "text/plain": [
       "'one'"
      ]
     },
     "execution_count": 108,
     "metadata": {},
     "output_type": "execute_result"
    }
   ],
   "source": [
    "mylist[0]"
   ]
  },
  {
   "cell_type": "code",
   "execution_count": 109,
   "id": "5fa14853-1058-4daa-8a3d-18ab007d15e0",
   "metadata": {},
   "outputs": [
    {
     "data": {
      "text/plain": [
       "['two', 'three']"
      ]
     },
     "execution_count": 109,
     "metadata": {},
     "output_type": "execute_result"
    }
   ],
   "source": [
    "mylist [1:]"
   ]
  },
  {
   "cell_type": "code",
   "execution_count": 110,
   "id": "13b15417-2e4d-498c-937f-a5cca26e2caa",
   "metadata": {},
   "outputs": [],
   "source": [
    "another_list = ['four', 'five']"
   ]
  },
  {
   "cell_type": "code",
   "execution_count": 111,
   "id": "0ea1b5cf-5aa9-4acd-ad3b-8e1a3848f6e2",
   "metadata": {},
   "outputs": [
    {
     "data": {
      "text/plain": [
       "['four', 'five']"
      ]
     },
     "execution_count": 111,
     "metadata": {},
     "output_type": "execute_result"
    }
   ],
   "source": [
    "another_list"
   ]
  },
  {
   "cell_type": "code",
   "execution_count": 112,
   "id": "046b4a3b-1dc9-4e80-953f-62a3ba0fae08",
   "metadata": {},
   "outputs": [
    {
     "data": {
      "text/plain": [
       "['one', 'two', 'three', 'four', 'five']"
      ]
     },
     "execution_count": 112,
     "metadata": {},
     "output_type": "execute_result"
    }
   ],
   "source": [
    "mylist + another_list"
   ]
  },
  {
   "cell_type": "code",
   "execution_count": 113,
   "id": "f68d7bf6-c095-4739-ad9e-6abcce8083b6",
   "metadata": {},
   "outputs": [],
   "source": [
    "# to save the 2 list will require to concatenation"
   ]
  },
  {
   "cell_type": "code",
   "execution_count": 114,
   "id": "ff6b40b2-ddb5-4908-97a0-4b9cdf2ab045",
   "metadata": {},
   "outputs": [],
   "source": [
    "new_list = mylist + another_list"
   ]
  },
  {
   "cell_type": "code",
   "execution_count": 120,
   "id": "4a23e426-c7c5-4ff4-b352-73a80dadd660",
   "metadata": {},
   "outputs": [
    {
     "data": {
      "text/plain": [
       "['ONE ALL CAPS', 'two', 'three', 'four', 'five']"
      ]
     },
     "execution_count": 120,
     "metadata": {},
     "output_type": "execute_result"
    }
   ],
   "source": [
    "new_list"
   ]
  },
  {
   "cell_type": "code",
   "execution_count": 118,
   "id": "3c81b194-18f7-446b-8259-9e346b879617",
   "metadata": {},
   "outputs": [],
   "source": [
    "new_list[0] = 'ONE ALL CAPS'"
   ]
  },
  {
   "cell_type": "code",
   "execution_count": 117,
   "id": "ad2fa592-22ef-41bc-95ec-498192aa693c",
   "metadata": {},
   "outputs": [
    {
     "data": {
      "text/plain": [
       "['ONE ALL CAPS', 'two', 'three', 'four', 'five']"
      ]
     },
     "execution_count": 117,
     "metadata": {},
     "output_type": "execute_result"
    }
   ],
   "source": [
    "new_list"
   ]
  },
  {
   "cell_type": "code",
   "execution_count": 121,
   "id": "fca58e7c-a20a-4810-918f-ad8ea7ee31ce",
   "metadata": {},
   "outputs": [],
   "source": [
    "#how to append a new list on an existing list"
   ]
  },
  {
   "cell_type": "code",
   "execution_count": 122,
   "id": "39e55388-5a51-4e91-8945-0d1bd76c4bfd",
   "metadata": {},
   "outputs": [],
   "source": [
    "new_list . append('six')"
   ]
  },
  {
   "cell_type": "code",
   "execution_count": 123,
   "id": "8f4b5b73-c777-47bb-a633-3f26d9e7ed5b",
   "metadata": {},
   "outputs": [
    {
     "data": {
      "text/plain": [
       "['ONE ALL CAPS', 'two', 'three', 'four', 'five', 'six']"
      ]
     },
     "execution_count": 123,
     "metadata": {},
     "output_type": "execute_result"
    }
   ],
   "source": [
    "new_list"
   ]
  },
  {
   "cell_type": "code",
   "execution_count": 124,
   "id": "73789c95-7540-425a-b2aa-f7f1c9586ddd",
   "metadata": {},
   "outputs": [],
   "source": [
    "new_list .append('seven')"
   ]
  },
  {
   "cell_type": "code",
   "execution_count": 126,
   "id": "0f2f3d32-93e3-4239-b2a1-e761648131bc",
   "metadata": {},
   "outputs": [
    {
     "data": {
      "text/plain": [
       "['ONE ALL CAPS', 'two', 'three', 'four', 'five', 'six', 'seven']"
      ]
     },
     "execution_count": 126,
     "metadata": {},
     "output_type": "execute_result"
    }
   ],
   "source": [
    "new_list"
   ]
  },
  {
   "cell_type": "code",
   "execution_count": 127,
   "id": "3f20780b-9378-4d37-a3dd-ebb8fe64bb49",
   "metadata": {},
   "outputs": [],
   "source": [
    "#removing item from the list"
   ]
  },
  {
   "cell_type": "code",
   "execution_count": 128,
   "id": "d2bce760-8897-433b-8840-3bc2be407118",
   "metadata": {},
   "outputs": [
    {
     "data": {
      "text/plain": [
       "'seven'"
      ]
     },
     "execution_count": 128,
     "metadata": {},
     "output_type": "execute_result"
    }
   ],
   "source": [
    "new_list .pop()"
   ]
  },
  {
   "cell_type": "code",
   "execution_count": 129,
   "id": "7ace3fae-2e5c-42a3-b39f-42188482f9d2",
   "metadata": {},
   "outputs": [
    {
     "data": {
      "text/plain": [
       "['ONE ALL CAPS', 'two', 'three', 'four', 'five', 'six']"
      ]
     },
     "execution_count": 129,
     "metadata": {},
     "output_type": "execute_result"
    }
   ],
   "source": [
    "new_list"
   ]
  },
  {
   "cell_type": "code",
   "execution_count": 130,
   "id": "b4883c12-a95d-4d2f-9c1a-ecea567f4544",
   "metadata": {},
   "outputs": [
    {
     "data": {
      "text/plain": [
       "'ONE ALL CAPS'"
      ]
     },
     "execution_count": 130,
     "metadata": {},
     "output_type": "execute_result"
    }
   ],
   "source": [
    "new_list.pop(0)"
   ]
  },
  {
   "cell_type": "code",
   "execution_count": 132,
   "id": "9410c273-a324-4728-a8f8-3ff2bc38073c",
   "metadata": {},
   "outputs": [
    {
     "data": {
      "text/plain": [
       "['two', 'three', 'four', 'five', 'six']"
      ]
     },
     "execution_count": 132,
     "metadata": {},
     "output_type": "execute_result"
    }
   ],
   "source": [
    "new_list"
   ]
  },
  {
   "cell_type": "code",
   "execution_count": 133,
   "id": "f23da0a6-26bc-4277-8587-7f5b16ff1a00",
   "metadata": {},
   "outputs": [],
   "source": [
    "new_list = ['ONE ALL CAPS','two','three','four','five','six']"
   ]
  },
  {
   "cell_type": "code",
   "execution_count": 134,
   "id": "de5bd33a-86ab-406a-a573-0a0595f16719",
   "metadata": {},
   "outputs": [
    {
     "data": {
      "text/plain": [
       "['ONE ALL CAPS', 'two', 'three', 'four', 'five', 'six']"
      ]
     },
     "execution_count": 134,
     "metadata": {},
     "output_type": "execute_result"
    }
   ],
   "source": [
    "new_list"
   ]
  },
  {
   "cell_type": "code",
   "execution_count": 135,
   "id": "42636175-bf6e-4e90-9719-83f476f7761b",
   "metadata": {},
   "outputs": [],
   "source": [
    "#learning sorting in a list"
   ]
  },
  {
   "cell_type": "code",
   "execution_count": 138,
   "id": "9a46d785-c7da-4a68-9361-da10d7f6a9ce",
   "metadata": {},
   "outputs": [],
   "source": [
    "new_list = ['a', 'g', 'f', 'c', 'e','d','b']\n",
    "num_list =[1,2,3,4,5,6,7,8]"
   ]
  },
  {
   "cell_type": "code",
   "execution_count": 142,
   "id": "7b0c5317-319c-42a6-a239-3f0e4a84db54",
   "metadata": {},
   "outputs": [],
   "source": [
    "new_list .sort()"
   ]
  },
  {
   "cell_type": "code",
   "execution_count": 143,
   "id": "6fcc81c9-7f50-49b3-b51e-8ec104af303d",
   "metadata": {},
   "outputs": [
    {
     "data": {
      "text/plain": [
       "['a', 'b', 'c', 'd', 'e', 'f', 'g']"
      ]
     },
     "execution_count": 143,
     "metadata": {},
     "output_type": "execute_result"
    }
   ],
   "source": [
    "new_list"
   ]
  },
  {
   "cell_type": "code",
   "execution_count": 149,
   "id": "06d1e4cb-1a09-4e16-b9e8-4bdc919bb1e1",
   "metadata": {},
   "outputs": [],
   "source": [
    "my_sorted_list = new_list.sort()"
   ]
  },
  {
   "cell_type": "code",
   "execution_count": 150,
   "id": "8b80777c-6fdd-407f-a6d0-e1c99552ad6a",
   "metadata": {},
   "outputs": [
    {
     "data": {
      "text/plain": [
       "NoneType"
      ]
     },
     "execution_count": 150,
     "metadata": {},
     "output_type": "execute_result"
    }
   ],
   "source": [
    "type(my_sorted_list)"
   ]
  },
  {
   "cell_type": "code",
   "execution_count": 151,
   "id": "c631ab78-2b76-4a05-9727-dbfc9eae8614",
   "metadata": {},
   "outputs": [],
   "source": [
    "# to create a list thta contains one string, one integer and one float"
   ]
  },
  {
   "cell_type": "code",
   "execution_count": 152,
   "id": "68597161-4a5c-4443-86fc-e715701d6301",
   "metadata": {},
   "outputs": [],
   "source": [
    "new_list = ['Mercy', '12.1', '0']"
   ]
  },
  {
   "cell_type": "code",
   "execution_count": 153,
   "id": "6b6321a2-9354-4bde-ba41-c34674eb54bb",
   "metadata": {},
   "outputs": [
    {
     "data": {
      "text/plain": [
       "['Mercy', '12.1', '0']"
      ]
     },
     "execution_count": 153,
     "metadata": {},
     "output_type": "execute_result"
    }
   ],
   "source": [
    "new_list"
   ]
  },
  {
   "cell_type": "code",
   "execution_count": 154,
   "id": "6b807dd4-02ac-4199-902e-ceac60c672cd",
   "metadata": {},
   "outputs": [],
   "source": [
    "#code session for dictionary whic are unorderd mappings for sorting objects and it uses key-value paiiring."
   ]
  },
  {
   "cell_type": "code",
   "execution_count": 157,
   "id": "c1daebdf-d778-40b7-a1e7-4ccd06e4e160",
   "metadata": {},
   "outputs": [],
   "source": [
    "my_dict = {'key1':'value1', 'key2':'value2', 'key3':'value3'}"
   ]
  },
  {
   "cell_type": "markdown",
   "id": "e95839a8-b4b0-4de9-85b2-04382e38a864",
   "metadata": {},
   "source": [
    "my_dict"
   ]
  },
  {
   "cell_type": "code",
   "execution_count": 158,
   "id": "e6c7cf0f-d86b-46f9-b5b0-0ef5891d7a68",
   "metadata": {},
   "outputs": [
    {
     "data": {
      "text/plain": [
       "{'key1': 'value1', 'key2': 'value2', 'key3': 'value3'}"
      ]
     },
     "execution_count": 158,
     "metadata": {},
     "output_type": "execute_result"
    }
   ],
   "source": [
    "my_dict"
   ]
  },
  {
   "cell_type": "code",
   "execution_count": 160,
   "id": "3de13543-cb7e-4396-8958-a0ce36fcf44c",
   "metadata": {},
   "outputs": [],
   "source": [
    "    #Example, using dictionary for price lookup on a veg store"
   ]
  },
  {
   "cell_type": "code",
   "execution_count": 161,
   "id": "718781d6-3d8a-4e89-9ebb-c8a4d31019ae",
   "metadata": {},
   "outputs": [],
   "source": [
    "price_lookup = {'apple':2000, 'oranges':1000, 'mango':1500}"
   ]
  },
  {
   "cell_type": "code",
   "execution_count": 162,
   "id": "9841cd43-0eaf-46ac-92d4-5c00086a10ac",
   "metadata": {},
   "outputs": [
    {
     "data": {
      "text/plain": [
       "2000"
      ]
     },
     "execution_count": 162,
     "metadata": {},
     "output_type": "execute_result"
    }
   ],
   "source": [
    "price_lookup ['apple']"
   ]
  },
  {
   "cell_type": "code",
   "execution_count": 164,
   "id": "17b46b3a-13bb-4cbe-9a8d-64901ba3be39",
   "metadata": {},
   "outputs": [],
   "source": [
    "  #Dictonaries are very flexible with the data type they can hold, example"
   ]
  },
  {
   "cell_type": "code",
   "execution_count": 165,
   "id": "a153086b-e2ab-40c5-80bf-7c2f81bbad83",
   "metadata": {},
   "outputs": [],
   "source": [
    "d = {'K1':123, 'K2':[0,1,2],'K3':{'InsideKey':100}}"
   ]
  },
  {
   "cell_type": "code",
   "execution_count": 166,
   "id": "b1c7040d-a950-4446-b568-90d7cfee5c1e",
   "metadata": {},
   "outputs": [
    {
     "data": {
      "text/plain": [
       "123"
      ]
     },
     "execution_count": 166,
     "metadata": {},
     "output_type": "execute_result"
    }
   ],
   "source": [
    "d['K1']"
   ]
  },
  {
   "cell_type": "code",
   "execution_count": 173,
   "id": "bb97a245-5699-4909-8151-397149b345e0",
   "metadata": {},
   "outputs": [
    {
     "data": {
      "text/plain": [
       "{'InsideKey': 100}"
      ]
     },
     "execution_count": 173,
     "metadata": {},
     "output_type": "execute_result"
    }
   ],
   "source": [
    "d['K3']"
   ]
  },
  {
   "cell_type": "code",
   "execution_count": 177,
   "id": "883ec3e0-a525-4971-a180-7d615045e46b",
   "metadata": {},
   "outputs": [],
   "source": [
    "  #Tuples, they are very similar to list, but they are immutable. Means once an element is inside a Tuple, it can not be reassigned or changed. And Tuple uses parenthesis: (1,2,3)"
   ]
  },
  {
   "cell_type": "code",
   "execution_count": 178,
   "id": "e1a644b7-4de6-485b-ba9c-3faa28161f6e",
   "metadata": {},
   "outputs": [],
   "source": [
    "t = (1,2,3)"
   ]
  },
  {
   "cell_type": "code",
   "execution_count": 179,
   "id": "ded56060-1c56-4e52-ad1b-c63d6139c079",
   "metadata": {},
   "outputs": [],
   "source": [
    "mylist = [1,2,3]"
   ]
  },
  {
   "cell_type": "code",
   "execution_count": 180,
   "id": "63d3a067-7cdb-4a72-ac5f-ab1d1e5a582a",
   "metadata": {},
   "outputs": [
    {
     "data": {
      "text/plain": [
       "tuple"
      ]
     },
     "execution_count": 180,
     "metadata": {},
     "output_type": "execute_result"
    }
   ],
   "source": [
    "type(t)"
   ]
  },
  {
   "cell_type": "code",
   "execution_count": 181,
   "id": "1f9b0026-72b4-4903-a57c-a5693f2e1835",
   "metadata": {},
   "outputs": [
    {
     "data": {
      "text/plain": [
       "3"
      ]
     },
     "execution_count": 181,
     "metadata": {},
     "output_type": "execute_result"
    }
   ],
   "source": [
    "len(t)"
   ]
  },
  {
   "cell_type": "code",
   "execution_count": 183,
   "id": "a68581ec-b47b-43e0-b660-2c5f22a8b03c",
   "metadata": {},
   "outputs": [
    {
     "data": {
      "text/plain": [
       "(1, 2, 3)"
      ]
     },
     "execution_count": 183,
     "metadata": {},
     "output_type": "execute_result"
    }
   ],
   "source": [
    "t"
   ]
  },
  {
   "cell_type": "code",
   "execution_count": 184,
   "id": "e3037b46-6076-46f5-8f27-bb5be6ed51f2",
   "metadata": {},
   "outputs": [],
   "source": [
    "t =('One', 2)"
   ]
  },
  {
   "cell_type": "code",
   "execution_count": 185,
   "id": "ffc5a54f-0f34-4fb1-9458-3ad8459afb54",
   "metadata": {},
   "outputs": [
    {
     "data": {
      "text/plain": [
       "'One'"
      ]
     },
     "execution_count": 185,
     "metadata": {},
     "output_type": "execute_result"
    }
   ],
   "source": [
    "t[0]"
   ]
  },
  {
   "cell_type": "code",
   "execution_count": 186,
   "id": "6192d5ce-a53d-4d01-8ee5-8e429b248490",
   "metadata": {},
   "outputs": [
    {
     "data": {
      "text/plain": [
       "2"
      ]
     },
     "execution_count": 186,
     "metadata": {},
     "output_type": "execute_result"
    }
   ],
   "source": [
    "t[-1]"
   ]
  },
  {
   "cell_type": "code",
   "execution_count": 187,
   "id": "6ab0eb03-d885-4fb3-b736-0dadae37eaa0",
   "metadata": {},
   "outputs": [],
   "source": [
    "   # two tuple methos, they are index and count methods"
   ]
  },
  {
   "cell_type": "code",
   "execution_count": 188,
   "id": "a81a66be-f945-44dc-bba1-fdbffbc9dc53",
   "metadata": {},
   "outputs": [],
   "source": [
    "t = ('a','a','b')"
   ]
  },
  {
   "cell_type": "code",
   "execution_count": 190,
   "id": "4355a498-e2fb-4b04-96e6-addd0fee0cab",
   "metadata": {},
   "outputs": [
    {
     "data": {
      "text/plain": [
       "2"
      ]
     },
     "execution_count": 190,
     "metadata": {},
     "output_type": "execute_result"
    }
   ],
   "source": [
    "t.count ('a') "
   ]
  },
  {
   "cell_type": "code",
   "execution_count": 191,
   "id": "c982eef7-c458-44fd-94e2-db1142906c40",
   "metadata": {},
   "outputs": [
    {
     "data": {
      "text/plain": [
       "('a', 'a', 'b')"
      ]
     },
     "execution_count": 191,
     "metadata": {},
     "output_type": "execute_result"
    }
   ],
   "source": [
    "t"
   ]
  },
  {
   "cell_type": "code",
   "execution_count": 192,
   "id": "70b289c4-42bf-41be-a34a-093cee1fd234",
   "metadata": {},
   "outputs": [
    {
     "data": {
      "text/plain": [
       "[1, 2, 3]"
      ]
     },
     "execution_count": 192,
     "metadata": {},
     "output_type": "execute_result"
    }
   ],
   "source": [
    "mylist"
   ]
  },
  {
   "cell_type": "code",
   "execution_count": 193,
   "id": "2621562e-e6df-4790-8bf5-e995985b0d6d",
   "metadata": {},
   "outputs": [],
   "source": [
    "mylist[0] = 'New'"
   ]
  },
  {
   "cell_type": "code",
   "execution_count": 194,
   "id": "23a34ba6-6c22-4812-9d96-9f0f43836af3",
   "metadata": {},
   "outputs": [
    {
     "data": {
      "text/plain": [
       "['New', 2, 3]"
      ]
     },
     "execution_count": 194,
     "metadata": {},
     "output_type": "execute_result"
    }
   ],
   "source": [
    "mylist"
   ]
  },
  {
   "cell_type": "code",
   "execution_count": 195,
   "id": "393a2379-fd4e-4e53-bea5-c6d41f57c43b",
   "metadata": {},
   "outputs": [],
   "source": [
    "# Sets in Python are an unordered collection of unique elements, meaning only one representation of that same object "
   ]
  },
  {
   "cell_type": "code",
   "execution_count": 196,
   "id": "c1427267-e8fc-4b18-b2dc-9f73cdcef25c",
   "metadata": {},
   "outputs": [],
   "source": [
    "myset = set()"
   ]
  },
  {
   "cell_type": "code",
   "execution_count": 197,
   "id": "88c60acb-f6e8-4ff2-aa07-09e7d9b99a52",
   "metadata": {},
   "outputs": [
    {
     "data": {
      "text/plain": [
       "set()"
      ]
     },
     "execution_count": 197,
     "metadata": {},
     "output_type": "execute_result"
    }
   ],
   "source": [
    "myset"
   ]
  },
  {
   "cell_type": "code",
   "execution_count": 198,
   "id": "6ac83521-0a66-4517-9b02-cb6af38e00ea",
   "metadata": {},
   "outputs": [],
   "source": [
    "myset.add(1)"
   ]
  },
  {
   "cell_type": "code",
   "execution_count": 199,
   "id": "76352df3-6e69-46d1-8a23-8186d1c89eaa",
   "metadata": {},
   "outputs": [
    {
     "data": {
      "text/plain": [
       "{1}"
      ]
     },
     "execution_count": 199,
     "metadata": {},
     "output_type": "execute_result"
    }
   ],
   "source": [
    "myset"
   ]
  },
  {
   "cell_type": "code",
   "execution_count": 200,
   "id": "7c4fbc50-11fe-450d-9943-870027282e70",
   "metadata": {},
   "outputs": [],
   "source": [
    "myset.add(2)"
   ]
  },
  {
   "cell_type": "code",
   "execution_count": 201,
   "id": "857da9ef-317e-455c-b73e-f32fffc14601",
   "metadata": {},
   "outputs": [
    {
     "data": {
      "text/plain": [
       "{1, 2}"
      ]
     },
     "execution_count": 201,
     "metadata": {},
     "output_type": "execute_result"
    }
   ],
   "source": [
    "myset"
   ]
  },
  {
   "cell_type": "code",
   "execution_count": 202,
   "id": "33c0e0b3-a14f-4864-b349-edb843ce4c6c",
   "metadata": {},
   "outputs": [],
   "source": [
    "#example, am writting an expression that will turn the string MISSISSIPPI into a set of unique letters  :"
   ]
  },
  {
   "cell_type": "code",
   "execution_count": 203,
   "id": "751df16d-58a9-4b06-8ca7-b8d9610fe052",
   "metadata": {},
   "outputs": [],
   "source": [
    "myset = set()"
   ]
  },
  {
   "cell_type": "code",
   "execution_count": 204,
   "id": "255a5171-053f-4272-b9eb-3dcc30cf142b",
   "metadata": {},
   "outputs": [
    {
     "data": {
      "text/plain": [
       "set()"
      ]
     },
     "execution_count": 204,
     "metadata": {},
     "output_type": "execute_result"
    }
   ],
   "source": [
    "myset"
   ]
  },
  {
   "cell_type": "code",
   "execution_count": 214,
   "id": "dd919db6-69d3-4efa-8f21-925cbce3829c",
   "metadata": {},
   "outputs": [],
   "source": [
    "myset = set('MISSISSIPPI')"
   ]
  },
  {
   "cell_type": "code",
   "execution_count": 215,
   "id": "4f72880d-3c41-494d-a672-640991dc6208",
   "metadata": {},
   "outputs": [
    {
     "data": {
      "text/plain": [
       "{'I', 'M', 'P', 'S'}"
      ]
     },
     "execution_count": 215,
     "metadata": {},
     "output_type": "execute_result"
    }
   ],
   "source": [
    "myset"
   ]
  },
  {
   "cell_type": "code",
   "execution_count": 216,
   "id": "3414abac-e182-4256-9253-bca4df999332",
   "metadata": {},
   "outputs": [],
   "source": [
    "#Booleans for Python. Booleans are operators that allows you to convey True or False statements, helps when dealing with flows and logics"
   ]
  },
  {
   "cell_type": "code",
   "execution_count": 217,
   "id": "2a969e27-3707-439c-a777-16b61dd2f38c",
   "metadata": {},
   "outputs": [
    {
     "data": {
      "text/plain": [
       "True"
      ]
     },
     "execution_count": 217,
     "metadata": {},
     "output_type": "execute_result"
    }
   ],
   "source": [
    "True"
   ]
  },
  {
   "cell_type": "code",
   "execution_count": 218,
   "id": "3ca81e7f-20c6-4d99-9df3-aaae58fb9623",
   "metadata": {},
   "outputs": [
    {
     "data": {
      "text/plain": [
       "False"
      ]
     },
     "execution_count": 218,
     "metadata": {},
     "output_type": "execute_result"
    }
   ],
   "source": [
    "False"
   ]
  },
  {
   "cell_type": "code",
   "execution_count": 219,
   "id": "22ffa35d-7e35-4a59-8171-af5b778947ca",
   "metadata": {},
   "outputs": [
    {
     "data": {
      "text/plain": [
       "False"
      ]
     },
     "execution_count": 219,
     "metadata": {},
     "output_type": "execute_result"
    }
   ],
   "source": [
    "1 > 2"
   ]
  },
  {
   "cell_type": "code",
   "execution_count": 220,
   "id": "2bd91cae-162d-4585-9fa9-30d4a2256ab4",
   "metadata": {},
   "outputs": [
    {
     "data": {
      "text/plain": [
       "True"
      ]
     },
     "execution_count": 220,
     "metadata": {},
     "output_type": "execute_result"
    }
   ],
   "source": [
    "1 == 1"
   ]
  },
  {
   "cell_type": "code",
   "execution_count": 222,
   "id": "d01464e5-8177-4f69-bfdf-b7fc159fb054",
   "metadata": {},
   "outputs": [
    {
     "data": {
      "text/plain": [
       "bool"
      ]
     },
     "execution_count": 222,
     "metadata": {},
     "output_type": "execute_result"
    }
   ],
   "source": [
    "type(False)"
   ]
  },
  {
   "cell_type": "code",
   "execution_count": 223,
   "id": "ea96034e-fab0-4312-b317-f549fc769288",
   "metadata": {},
   "outputs": [],
   "source": [
    "  # I/O with Basic files in Python"
   ]
  },
  {
   "cell_type": "code",
   "execution_count": 224,
   "id": "ec9fd99d-82a9-4a68-a02d-8d769669bf0f",
   "metadata": {},
   "outputs": [
    {
     "name": "stdout",
     "output_type": "stream",
     "text": [
      "Writing myfile.txt\n"
     ]
    }
   ],
   "source": [
    "%%writefile myfile.txt\n",
    "Hello this is a text file\n",
    "This is the second line\n",
    "This is the third line"
   ]
  },
  {
   "cell_type": "code",
   "execution_count": 225,
   "id": "46da4a92-86cf-497e-bd94-96c330873791",
   "metadata": {},
   "outputs": [],
   "source": [
    "#to lookup a file, use"
   ]
  },
  {
   "cell_type": "code",
   "execution_count": 226,
   "id": "a61003a8-dd8a-4d9c-9ebb-7a55393f9ac0",
   "metadata": {},
   "outputs": [],
   "source": [
    "myfile = open('myfile.txt')"
   ]
  },
  {
   "cell_type": "code",
   "execution_count": 227,
   "id": "8e57eea1-1453-47ab-9038-1d1c99967834",
   "metadata": {},
   "outputs": [],
   "source": [
    "  #to know the directory where my jupter notebook is located, use"
   ]
  },
  {
   "cell_type": "code",
   "execution_count": 228,
   "id": "9b3f4589-7505-4f59-b3b2-5ea6079a19c6",
   "metadata": {},
   "outputs": [
    {
     "data": {
      "text/plain": [
       "'C:\\\\Users\\\\DELL\\\\Desktop'"
      ]
     },
     "execution_count": 228,
     "metadata": {},
     "output_type": "execute_result"
    }
   ],
   "source": [
    "pwd"
   ]
  },
  {
   "cell_type": "code",
   "execution_count": 231,
   "id": "c08b09a4-1a35-4726-bb55-fd240748bb7b",
   "metadata": {},
   "outputs": [],
   "source": [
    "myfile = open('myfile.txt')"
   ]
  },
  {
   "cell_type": "code",
   "execution_count": 232,
   "id": "b88b09f9-3e2a-4288-ba3d-f07992aeb843",
   "metadata": {},
   "outputs": [
    {
     "data": {
      "text/plain": [
       "'Hello this is a text file\\nThis is the second line\\nThis is the third line\\n'"
      ]
     },
     "execution_count": 232,
     "metadata": {},
     "output_type": "execute_result"
    }
   ],
   "source": [
    "myfile.read()"
   ]
  },
  {
   "cell_type": "code",
   "execution_count": 233,
   "id": "9c0e6817-2906-45b5-8832-2f1124c63e6c",
   "metadata": {},
   "outputs": [
    {
     "data": {
      "text/plain": [
       "''"
      ]
     },
     "execution_count": 233,
     "metadata": {},
     "output_type": "execute_result"
    }
   ],
   "source": [
    "myfile.readline()"
   ]
  },
  {
   "cell_type": "code",
   "execution_count": 234,
   "id": "9ae7fc98-61ed-47d5-8217-9ffa6daae39e",
   "metadata": {},
   "outputs": [
    {
     "data": {
      "text/plain": [
       "0"
      ]
     },
     "execution_count": 234,
     "metadata": {},
     "output_type": "execute_result"
    }
   ],
   "source": [
    "myfile.seek(0)"
   ]
  },
  {
   "cell_type": "code",
   "execution_count": 236,
   "id": "28c82889-0016-4ef7-8778-9d17229c6a92",
   "metadata": {},
   "outputs": [
    {
     "data": {
      "text/plain": [
       "['This is the second line\\n', 'This is the third line\\n']"
      ]
     },
     "execution_count": 236,
     "metadata": {},
     "output_type": "execute_result"
    }
   ],
   "source": [
    "myfile.readlines()"
   ]
  },
  {
   "cell_type": "code",
   "execution_count": 237,
   "id": "50b38588-a9ed-4fdf-bd81-8c36feaa00b0",
   "metadata": {},
   "outputs": [
    {
     "data": {
      "text/plain": [
       "0"
      ]
     },
     "execution_count": 237,
     "metadata": {},
     "output_type": "execute_result"
    }
   ],
   "source": [
    "myfile.seek(0)"
   ]
  },
  {
   "cell_type": "code",
   "execution_count": 238,
   "id": "18162590-140f-4b36-8596-0e7dbc18f57a",
   "metadata": {},
   "outputs": [
    {
     "data": {
      "text/plain": [
       "['Hello this is a text file\\n',\n",
       " 'This is the second line\\n',\n",
       " 'This is the third line\\n']"
      ]
     },
     "execution_count": 238,
     "metadata": {},
     "output_type": "execute_result"
    }
   ],
   "source": [
    "myfile.readlines()"
   ]
  },
  {
   "cell_type": "code",
   "execution_count": 240,
   "id": "e005b21d-9f23-469b-8a04-625b5d16738b",
   "metadata": {},
   "outputs": [],
   "source": [
    "# file location"
   ]
  },
  {
   "cell_type": "code",
   "execution_count": 241,
   "id": "d1872456-f652-44c2-b20d-4c5050271322",
   "metadata": {},
   "outputs": [
    {
     "data": {
      "text/plain": [
       "'C:\\\\Users\\\\DELL\\\\Desktop'"
      ]
     },
     "execution_count": 241,
     "metadata": {},
     "output_type": "execute_result"
    }
   ],
   "source": [
    "pwd"
   ]
  },
  {
   "cell_type": "code",
   "execution_count": 1,
   "id": "f022bbbc-a35b-4cc4-96f6-d47c0707b90e",
   "metadata": {},
   "outputs": [],
   "source": [
    "#check the python version"
   ]
  },
  {
   "cell_type": "code",
   "execution_count": 2,
   "id": "669259f3-6240-4320-9a9d-706ec0a8f018",
   "metadata": {},
   "outputs": [],
   "source": [
    "import sys"
   ]
  },
  {
   "cell_type": "code",
   "execution_count": 3,
   "id": "9a541a47-a059-4f50-9203-f1da4800cb96",
   "metadata": {},
   "outputs": [
    {
     "name": "stdout",
     "output_type": "stream",
     "text": [
      "3.13.5 | packaged by Anaconda, Inc. | (main, Jun 12 2025, 16:37:03) [MSC v.1929 64 bit (AMD64)]\n"
     ]
    }
   ],
   "source": [
    "print(sys.version)"
   ]
  },
  {
   "cell_type": "code",
   "execution_count": 5,
   "id": "f0f13941-585c-4196-8bb2-d19f45bdc88d",
   "metadata": {},
   "outputs": [
    {
     "data": {
      "text/plain": [
       "3"
      ]
     },
     "execution_count": 5,
     "metadata": {},
     "output_type": "execute_result"
    }
   ],
   "source": [
    "int(3.33)"
   ]
  },
  {
   "cell_type": "code",
   "execution_count": 8,
   "id": "87dc6b2b-5695-47f6-8234-c3b6aac91062",
   "metadata": {},
   "outputs": [],
   "source": [
    "#the Comparison Operators\n",
    " # = if values of two operands are equal, then the condition ecomes True e.g (a==b) is not Trues \n",
    "# != if the values of two operands are not equal, the condition becomes True e.g (a!=b) is true \n",
    "# > if the value of left operand is greater than the value of right operand than the condition becomes true e.g (a.b) is not True \n",
    "# < if the value of left operand is less than the right operand, the condition becomes true\n",
    "# >= if the value of the left operand is greater than or equal to the value of the right operand (a>=b) is not true \n",
    "# <= if the vaue of the left operand is less than or equal to the value of right operand, then condition becomes true e. (a<=b) is true."
   ]
  },
  {
   "cell_type": "code",
   "execution_count": 9,
   "id": "81d9cf0e-20f5-4412-81f1-66145e107680",
   "metadata": {},
   "outputs": [
    {
     "data": {
      "text/plain": [
       "True"
      ]
     },
     "execution_count": 9,
     "metadata": {},
     "output_type": "execute_result"
    }
   ],
   "source": [
    "2==2"
   ]
  },
  {
   "cell_type": "code",
   "execution_count": 10,
   "id": "71d7cf91-0c86-46ec-8f6a-29ba5796b3ae",
   "metadata": {},
   "outputs": [
    {
     "data": {
      "text/plain": [
       "False"
      ]
     },
     "execution_count": 10,
     "metadata": {},
     "output_type": "execute_result"
    }
   ],
   "source": [
    "2==1"
   ]
  },
  {
   "cell_type": "code",
   "execution_count": 11,
   "id": "f6e090ec-1fa5-4c81-b74b-dd6e7d093cf7",
   "metadata": {},
   "outputs": [
    {
     "data": {
      "text/plain": [
       "False"
      ]
     },
     "execution_count": 11,
     "metadata": {},
     "output_type": "execute_result"
    }
   ],
   "source": [
    "# also comparison on string\n",
    "'hello'== 'bye'"
   ]
  },
  {
   "cell_type": "code",
   "execution_count": 12,
   "id": "accbc7a5-15e0-44fc-a8a2-6205f9ac5e34",
   "metadata": {},
   "outputs": [
    {
     "data": {
      "text/plain": [
       "False"
      ]
     },
     "execution_count": 12,
     "metadata": {},
     "output_type": "execute_result"
    }
   ],
   "source": [
    "# also when two same comparison has different cases, it will false. \n",
    "'Bye'=='bye'"
   ]
  },
  {
   "cell_type": "code",
   "execution_count": 13,
   "id": "8454efee-e2d6-44aa-8062-2c13727be3c7",
   "metadata": {},
   "outputs": [
    {
     "data": {
      "text/plain": [
       "False"
      ]
     },
     "execution_count": 13,
     "metadata": {},
     "output_type": "execute_result"
    }
   ],
   "source": [
    "#also when it holds same value but different data sets, e.g string '2' and integre 2 will be False\n",
    "'2' == 2"
   ]
  },
  {
   "cell_type": "code",
   "execution_count": 15,
   "id": "97e98823-3e52-4ec3-b851-81f54b8f87e1",
   "metadata": {},
   "outputs": [
    {
     "data": {
      "text/plain": [
       "True"
      ]
     },
     "execution_count": 15,
     "metadata": {},
     "output_type": "execute_result"
    }
   ],
   "source": [
    "#for floating point, as long as it holds same value \n",
    "2.0 ==2"
   ]
  },
  {
   "cell_type": "code",
   "execution_count": 17,
   "id": "5ba55adc-6aef-4afb-8a8e-73a5de0ac735",
   "metadata": {},
   "outputs": [
    {
     "data": {
      "text/plain": [
       "False"
      ]
     },
     "execution_count": 17,
     "metadata": {},
     "output_type": "execute_result"
    }
   ],
   "source": [
    "3!=3\n",
    "#will be false because 3=3"
   ]
  },
  {
   "cell_type": "code",
   "execution_count": 18,
   "id": "b0538f9b-610d-4eed-923b-57368acd41c3",
   "metadata": {},
   "outputs": [
    {
     "data": {
      "text/plain": [
       "True"
      ]
     },
     "execution_count": 18,
     "metadata": {},
     "output_type": "execute_result"
    }
   ],
   "source": [
    "#but 4!=5 and this is true\n",
    "4!=5"
   ]
  },
  {
   "cell_type": "code",
   "execution_count": 19,
   "id": "b19bce05-272f-4d6a-8601-deb0f243d5fd",
   "metadata": {},
   "outputs": [
    {
     "data": {
      "text/plain": [
       "True"
      ]
     },
     "execution_count": 19,
     "metadata": {},
     "output_type": "execute_result"
    }
   ],
   "source": [
    "1<2"
   ]
  },
  {
   "cell_type": "code",
   "execution_count": 20,
   "id": "9ebb39ea-62f3-4b94-a2a2-236b9545d873",
   "metadata": {},
   "outputs": [
    {
     "data": {
      "text/plain": [
       "True"
      ]
     },
     "execution_count": 20,
     "metadata": {},
     "output_type": "execute_result"
    }
   ],
   "source": [
    "2>=2"
   ]
  },
  {
   "cell_type": "code",
   "execution_count": 21,
   "id": "9aea2842-83f4-4d97-95da-461ef78f8a42",
   "metadata": {},
   "outputs": [
    {
     "data": {
      "text/plain": [
       "False"
      ]
     },
     "execution_count": 21,
     "metadata": {},
     "output_type": "execute_result"
    }
   ],
   "source": [
    "4<=1"
   ]
  },
  {
   "cell_type": "code",
   "execution_count": 22,
   "id": "4f4616d5-5c63-4333-859e-7f9667eb34fe",
   "metadata": {},
   "outputs": [],
   "source": [
    "#code lesson on and and or operators"
   ]
  },
  {
   "cell_type": "code",
   "execution_count": 25,
   "id": "43111c16-7682-4e11-b1b9-70529081f723",
   "metadata": {},
   "outputs": [
    {
     "data": {
      "text/plain": [
       "True"
      ]
     },
     "execution_count": 25,
     "metadata": {},
     "output_type": "execute_result"
    }
   ],
   "source": [
    "('h' == 'h') and (2==2)"
   ]
  },
  {
   "cell_type": "markdown",
   "id": "ef4cba6e-46c6-40b0-b0c3-9a4bf65d91df",
   "metadata": {},
   "source": [
    "1<2 and 2<3"
   ]
  },
  {
   "cell_type": "code",
   "execution_count": 26,
   "id": "e7f44cca-9b6e-4db9-986f-52bb27f522f4",
   "metadata": {},
   "outputs": [
    {
     "data": {
      "text/plain": [
       "True"
      ]
     },
     "execution_count": 26,
     "metadata": {},
     "output_type": "execute_result"
    }
   ],
   "source": [
    "1 < 2 and 2< 3"
   ]
  },
  {
   "cell_type": "code",
   "execution_count": null,
   "id": "76944474-439d-49cf-8ef4-1596a8ddce49",
   "metadata": {},
   "outputs": [],
   "source": []
  },
  {
   "cell_type": "code",
   "execution_count": 29,
   "id": "0343285b-dbda-49ae-a35d-13abc16e620c",
   "metadata": {},
   "outputs": [],
   "source": [
    "# with or, either of the operands can be true for your code to be true"
   ]
  },
  {
   "cell_type": "code",
   "execution_count": 32,
   "id": "b0261d5b-efae-41b5-b7c3-88ce50ca205d",
   "metadata": {},
   "outputs": [
    {
     "data": {
      "text/plain": [
       "True"
      ]
     },
     "execution_count": 32,
     "metadata": {},
     "output_type": "execute_result"
    }
   ],
   "source": [
    "100 == 1 or 2 == 2"
   ]
  },
  {
   "cell_type": "code",
   "execution_count": 33,
   "id": "70db3a1c-8879-44a7-9c69-3b8cb32970c3",
   "metadata": {},
   "outputs": [
    {
     "data": {
      "text/plain": [
       "False"
      ]
     },
     "execution_count": 33,
     "metadata": {},
     "output_type": "execute_result"
    }
   ],
   "source": [
    "#But this will be false cos both are false\n",
    "100 == 1 or 200 == 2"
   ]
  },
  {
   "cell_type": "code",
   "execution_count": 34,
   "id": "c6ee53d5-d939-4735-9857-2e436dc9e522",
   "metadata": {},
   "outputs": [
    {
     "data": {
      "text/plain": [
       "False"
      ]
     },
     "execution_count": 34,
     "metadata": {},
     "output_type": "execute_result"
    }
   ],
   "source": [
    "# the not key word returns the opposite of the correct Boolean\n",
    "not (1 == 1)"
   ]
  },
  {
   "cell_type": "code",
   "execution_count": 37,
   "id": "79d6afae-154e-437b-94b5-1987bdeb9031",
   "metadata": {},
   "outputs": [
    {
     "data": {
      "text/plain": [
       "True"
      ]
     },
     "execution_count": 37,
     "metadata": {},
     "output_type": "execute_result"
    }
   ],
   "source": [
    "#but 1 == 1 is true without the not keyword\n",
    "1 == 1"
   ]
  },
  {
   "cell_type": "code",
   "execution_count": 38,
   "id": "60f10901-2f45-4682-b51f-63a92760cc5c",
   "metadata": {},
   "outputs": [],
   "source": [
    "#Python statements:\n",
    "  #the if\n",
    "  #the elif\n",
    "  #the else statements"
   ]
  },
  {
   "cell_type": "code",
   "execution_count": 39,
   "id": "580ae841-2ad5-409b-99ac-4fd33e2652d3",
   "metadata": {},
   "outputs": [
    {
     "name": "stdout",
     "output_type": "stream",
     "text": [
      "Its True!\n"
     ]
    }
   ],
   "source": [
    "#Example of If statement with Boolean condition \n",
    "\n",
    "if True:\n",
    "    print('Its True!')"
   ]
  },
  {
   "cell_type": "code",
   "execution_count": 40,
   "id": "19a3455b-eca4-40cf-a9e2-43bf687b89a9",
   "metadata": {},
   "outputs": [
    {
     "name": "stdout",
     "output_type": "stream",
     "text": [
      "Its True!\n"
     ]
    }
   ],
   "source": [
    "if 3>2:\n",
    "    print ('Its True!')"
   ]
  },
  {
   "cell_type": "code",
   "execution_count": 50,
   "id": "bd60a569-4f2b-4df4-bccf-2607c9e47f5e",
   "metadata": {},
   "outputs": [
    {
     "name": "stdout",
     "output_type": "stream",
     "text": [
      "Feed Me!\n"
     ]
    }
   ],
   "source": [
    "#using the if statement\n",
    "hungry = True\n",
    "\n",
    "if hungry:\n",
    "    print('Feed Me!')"
   ]
  },
  {
   "cell_type": "code",
   "execution_count": 5,
   "id": "2834929b-b36c-47ca-a757-a13044f902cc",
   "metadata": {},
   "outputs": [
    {
     "name": "stdout",
     "output_type": "stream",
     "text": [
      "Feed Me!\n"
     ]
    }
   ],
   "source": [
    "#uisng the else statement \n",
    "hungry = True\n",
    "\n",
    "if hungry:\n",
    "    print('Feed Me!')\n",
    "else:\n",
    "    print ('I am not hungry')"
   ]
  },
  {
   "cell_type": "code",
   "execution_count": 54,
   "id": "8e5e48e4-ff85-4497-a8e4-2b43a5eb6346",
   "metadata": {},
   "outputs": [
    {
     "name": "stdout",
     "output_type": "stream",
     "text": [
      "I do not know much!\n"
     ]
    }
   ],
   "source": [
    "#another example on if and else statement\n",
    "loc = 'Bank'\n",
    "\n",
    "if loc == 'Auto Shop':\n",
    "       print (\"Cars are cool!\")\n",
    "else:\n",
    "    print (\"I do not know much!\")"
   ]
  },
  {
   "cell_type": "code",
   "execution_count": 6,
   "id": "1cd930c6-6e2b-4c45-bf01-566f923d26b7",
   "metadata": {},
   "outputs": [
    {
     "name": "stdout",
     "output_type": "stream",
     "text": [
      "Cars are cool!\n"
     ]
    }
   ],
   "source": [
    "# adding elif to if and else statement\n",
    "loc = 'Auto Shop'\n",
    "\n",
    "if loc == 'Auto Shop':\n",
    "       print (\"Cars are cool!\")\n",
    "elif loc == 'Bank':\n",
    "    print (\"Money is cool!\")\n",
    "    \n",
    "else:\n",
    "    print (\"I do not know much!\")"
   ]
  },
  {
   "cell_type": "code",
   "execution_count": 59,
   "id": "3ea2024c-53dd-41ae-a617-367d5a2bd801",
   "metadata": {},
   "outputs": [
    {
     "name": "stdout",
     "output_type": "stream",
     "text": [
      "Welcome to the store\n"
     ]
    }
   ],
   "source": [
    "# but when i define the elif statement to be Store and make loc to be Store\n",
    "loc = 'Store'\n",
    "\n",
    "if loc == 'Auto Shop':\n",
    "       print (\"Cars are cool!\")\n",
    "elif loc == 'Bank':\n",
    "    print (\"Money is cool!\")\n",
    "elif loc == 'Store':\n",
    "    print (\"Welcome to the store\")\n",
    "    \n",
    "else:\n",
    "    print (\"I do not know much!\")"
   ]
  },
  {
   "cell_type": "code",
   "execution_count": 60,
   "id": "1e695389-edac-493a-b361-0aa540abb5f9",
   "metadata": {},
   "outputs": [],
   "source": [
    "# look at for loops in Python. Iterable means you can iterate over the object. example we can iterate over string, list and dictionary.\n",
    "#the Syntax of a For Loop\n",
    "   # my_iterable = [1,2,3]\n",
    "   # for item_name in my_iterable:\n",
    "        # print (item_name)"
   ]
  },
  {
   "cell_type": "code",
   "execution_count": 1,
   "id": "03a19477-5844-44f8-804c-17cf9ccdafe1",
   "metadata": {},
   "outputs": [],
   "source": [
    "mylist = [1,2,3,4,5,6,7,8,9,10]"
   ]
  },
  {
   "cell_type": "code",
   "execution_count": 3,
   "id": "efe73928-125a-48d5-82c9-ae690c0c69a8",
   "metadata": {},
   "outputs": [
    {
     "name": "stdout",
     "output_type": "stream",
     "text": [
      "1\n",
      "2\n",
      "3\n",
      "4\n",
      "5\n",
      "6\n",
      "7\n",
      "8\n",
      "9\n",
      "10\n"
     ]
    }
   ],
   "source": [
    "# use for loop to iterate every keyword on the list in line 1\n",
    "for num in mylist:\n",
    "    print (num)"
   ]
  },
  {
   "cell_type": "code",
   "execution_count": 14,
   "id": "48b7f55e-d0b7-4e90-be7a-42e803d55aa2",
   "metadata": {},
   "outputs": [
    {
     "name": "stdout",
     "output_type": "stream",
     "text": [
      "Odd Numbers: 1\n",
      "2\n",
      "Odd Numbers: 3\n",
      "4\n",
      "Odd Numbers: 5\n",
      "6\n",
      "Odd Numbers: 7\n",
      "8\n",
      "Odd Numbers: 9\n",
      "10\n"
     ]
    }
   ],
   "source": [
    "#check for even numbers \n",
    "for num in mylist:\n",
    "    if num % 2 == 0:\n",
    "        print (num)\n",
    "    else:\n",
    "        print (f'Odd Numbers: {num}')"
   ]
  },
  {
   "cell_type": "code",
   "execution_count": 18,
   "id": "5a68224d-aa62-427f-bce3-8264c6a515c0",
   "metadata": {},
   "outputs": [
    {
     "name": "stdout",
     "output_type": "stream",
     "text": [
      "H\n",
      "e\n",
      "l\n",
      "l\n",
      "o\n",
      " \n",
      "W\n",
      "o\n",
      "r\n",
      "l\n",
      "d\n"
     ]
    }
   ],
   "source": [
    "# using For Loop with String\n",
    "mystring = 'Hello World'\n",
    "for letter in mystring:\n",
    "    print (letter)"
   ]
  },
  {
   "cell_type": "code",
   "execution_count": 22,
   "id": "1ff49693-ee3e-4e36-b3a9-ba427a0c2537",
   "metadata": {},
   "outputs": [
    {
     "name": "stdout",
     "output_type": "stream",
     "text": [
      "1\n",
      "2\n",
      "3\n"
     ]
    }
   ],
   "source": [
    "# using same For Loop for Tuple \n",
    "tup = (1,2,3)\n",
    "\n",
    "for item in tup:\n",
    "    print (item)"
   ]
  },
  {
   "cell_type": "code",
   "execution_count": 23,
   "id": "5306a2f7-8a6e-4643-a155-30d055fb1d1e",
   "metadata": {},
   "outputs": [],
   "source": [
    "#Tuple onparking \n",
    "mylist = [(1,2,3), (4,5,6), (7,8,9)]"
   ]
  },
  {
   "cell_type": "code",
   "execution_count": 26,
   "id": "7aba9ebe-6d24-4fa0-b552-868c672b8a75",
   "metadata": {},
   "outputs": [
    {
     "name": "stdout",
     "output_type": "stream",
     "text": [
      "2\n",
      "5\n",
      "8\n"
     ]
    }
   ],
   "source": [
    "for a,b,c in mylist:\n",
    "     print(b)"
   ]
  },
  {
   "cell_type": "code",
   "execution_count": 30,
   "id": "2398f839-f120-44a9-802e-82fc384a663a",
   "metadata": {},
   "outputs": [
    {
     "name": "stdout",
     "output_type": "stream",
     "text": [
      "K1\n",
      "K2\n",
      "K3\n"
     ]
    }
   ],
   "source": [
    "#how to iterate through a dictionary keys\n",
    "d = {'K1':1, 'K2':2, 'K3':3}\n",
    "for item in d:\n",
    "    print (item)"
   ]
  },
  {
   "cell_type": "code",
   "execution_count": 31,
   "id": "7bb9c5ef-a003-449f-a2b3-5bbc75126a90",
   "metadata": {},
   "outputs": [
    {
     "name": "stdout",
     "output_type": "stream",
     "text": [
      "('K1', 1)\n",
      "('K2', 2)\n",
      "('K3', 3)\n"
     ]
    }
   ],
   "source": [
    "#But of you want to iterate through a dictionary item\n",
    "d = {'K1':1, 'K2':2, 'K3':3}\n",
    "for item in d.items():\n",
    "    print (item)"
   ]
  },
  {
   "cell_type": "code",
   "execution_count": 32,
   "id": "5cf183ef-87ea-483e-a505-f44a12574b45",
   "metadata": {},
   "outputs": [],
   "source": [
    "#While Loops in Python\n",
    "#the whie loop will continue to execute a block of codes while the condition remain True\n",
    "\n",
    "#The Syntax\n",
    "  #While some_boolean_condition:\n",
    "     # do something\n",
    "  # Else:\n",
    "     # do somthing different."
   ]
  },
  {
   "cell_type": "code",
   "execution_count": 1,
   "id": "85acead8-08af-42e2-a926-f1009e949759",
   "metadata": {},
   "outputs": [
    {
     "name": "stdout",
     "output_type": "stream",
     "text": [
      "the current value of x is 0\n",
      "the current value of x is 1\n",
      "the current value of x is 2\n",
      "the current value of x is 3\n",
      "the current value of x is 4\n"
     ]
    }
   ],
   "source": [
    "x = 0\n",
    "\n",
    "while x < 5:\n",
    "    print (f'the current value of x is {x}')\n",
    "    x += 1"
   ]
  },
  {
   "cell_type": "code",
   "execution_count": 4,
   "id": "62ba0e6d-d862-4da2-880a-fe67e656310f",
   "metadata": {},
   "outputs": [
    {
     "name": "stdout",
     "output_type": "stream",
     "text": [
      "X is not less than 5\n"
     ]
    }
   ],
   "source": [
    "#but if i make x =50, the current condition with x=0 wont run. So i make x = 50\n",
    "\n",
    "x = 50\n",
    "\n",
    "while x < 5:\n",
    "    print (f'the current value of x is {x}')\n",
    "    x +=1\n",
    "else:\n",
    "    print ('X is not less than 5')"
   ]
  },
  {
   "cell_type": "code",
   "execution_count": null,
   "id": "52914007-6205-4ed1-9432-35d11939a94b",
   "metadata": {},
   "outputs": [],
   "source": []
  }
 ],
 "metadata": {
  "kernelspec": {
   "display_name": "Python [conda env:base] *",
   "language": "python",
   "name": "conda-base-py"
  },
  "language_info": {
   "codemirror_mode": {
    "name": "ipython",
    "version": 3
   },
   "file_extension": ".py",
   "mimetype": "text/x-python",
   "name": "python",
   "nbconvert_exporter": "python",
   "pygments_lexer": "ipython3",
   "version": "3.13.5"
  }
 },
 "nbformat": 4,
 "nbformat_minor": 5
}
