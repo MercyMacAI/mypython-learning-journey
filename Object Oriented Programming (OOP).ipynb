{
 "cells": [
  {
   "cell_type": "code",
   "execution_count": 1,
   "id": "abd83383-77da-4ff0-95ca-4cfcf06139ce",
   "metadata": {},
   "outputs": [],
   "source": [
    "#Using Class key word to build a user defined object.\n",
    "\n",
    "class Sample ():\n",
    "    pass\n",
    "    "
   ]
  },
  {
   "cell_type": "code",
   "execution_count": 2,
   "id": "11e0c028-4c75-422a-a943-11919a366518",
   "metadata": {},
   "outputs": [],
   "source": [
    "my_sample = Sample()"
   ]
  },
  {
   "cell_type": "code",
   "execution_count": 4,
   "id": "b9f3a74f-f23e-4843-9ba5-9c8a54791bee",
   "metadata": {},
   "outputs": [
    {
     "data": {
      "text/plain": [
       "__main__.Sample"
      ]
     },
     "execution_count": 4,
     "metadata": {},
     "output_type": "execute_result"
    }
   ],
   "source": [
    "type(my_sample)"
   ]
  },
  {
   "cell_type": "code",
   "execution_count": 38,
   "id": "f0a41265-3572-4fa3-aaf9-866db53c589f",
   "metadata": {},
   "outputs": [],
   "source": [
    "#Using Class key word to build a user defined object.\n",
    "\n",
    "class Dog ():\n",
    "    \n",
    "    #creating an attribute into this class function by adding an init method\n",
    "    def __init__(self, breed, name,spots):\n",
    "        #Attributes\n",
    "        #we take in the argument \n",
    "        #assign it using self.attribute\n",
    "        self.breed = breed\n",
    "        self.name = name\n",
    "        self.spots = spots\n",
    "    "
   ]
  },
  {
   "cell_type": "code",
   "execution_count": 39,
   "id": "2f188f61-7229-43b1-a491-e3ec6694baf0",
   "metadata": {},
   "outputs": [],
   "source": [
    "#Next lets create a variable \n",
    "\n",
    "my_dog = Dog(breed='Huskie', name='Sammy',spots = \"NO SPOTS\")"
   ]
  },
  {
   "cell_type": "code",
   "execution_count": 40,
   "id": "12e70e5d-8383-44a5-adbb-fe7ea75a94d8",
   "metadata": {},
   "outputs": [
    {
     "data": {
      "text/plain": [
       "__main__.Dog"
      ]
     },
     "execution_count": 40,
     "metadata": {},
     "output_type": "execute_result"
    }
   ],
   "source": [
    "type(my_dog)"
   ]
  },
  {
   "cell_type": "code",
   "execution_count": 42,
   "id": "55705be3-da7e-414e-9e66-74e5c5ba736d",
   "metadata": {},
   "outputs": [
    {
     "data": {
      "text/plain": [
       "<__main__.Dog at 0x23a93dfd7f0>"
      ]
     },
     "execution_count": 42,
     "metadata": {},
     "output_type": "execute_result"
    }
   ],
   "source": [
    "my_dog"
   ]
  },
  {
   "cell_type": "code",
   "execution_count": 61,
   "id": "22418079-3836-498c-a028-55c27140fece",
   "metadata": {},
   "outputs": [],
   "source": [
    "#Created a new class called Circle\n",
    "\n",
    "class Circle():\n",
    "\n",
    "    #class object attribute\n",
    "    pi = 3.14\n",
    "\n",
    "    def __init__ (self,radius = 1):\n",
    "        self.radius = radius\n",
    "\n",
    "    #Method\n",
    "    def get_circumference(self):\n",
    "        return self.radius * self.pi * 2"
   ]
  },
  {
   "cell_type": "code",
   "execution_count": 62,
   "id": "6cf5ff1a-5a12-41ea-a306-9541c43e629b",
   "metadata": {},
   "outputs": [],
   "source": [
    "my_circle = Circle(30)"
   ]
  },
  {
   "cell_type": "code",
   "execution_count": 63,
   "id": "4827d0d1-1b17-47f5-aa49-ff7a72eb786b",
   "metadata": {},
   "outputs": [
    {
     "data": {
      "text/plain": [
       "3.14"
      ]
     },
     "execution_count": 63,
     "metadata": {},
     "output_type": "execute_result"
    }
   ],
   "source": [
    "my_circle.pi"
   ]
  },
  {
   "cell_type": "code",
   "execution_count": 64,
   "id": "2ef49dbf-335d-498a-869f-f24e26976c1d",
   "metadata": {},
   "outputs": [
    {
     "data": {
      "text/plain": [
       "30"
      ]
     },
     "execution_count": 64,
     "metadata": {},
     "output_type": "execute_result"
    }
   ],
   "source": [
    "my_circle.radius"
   ]
  },
  {
   "cell_type": "code",
   "execution_count": 65,
   "id": "2700e146-c2cb-4e58-a531-8bd409913dfa",
   "metadata": {},
   "outputs": [
    {
     "data": {
      "text/plain": [
       "188.4"
      ]
     },
     "execution_count": 65,
     "metadata": {},
     "output_type": "execute_result"
    }
   ],
   "source": [
    "my_circle.get_circumference()"
   ]
  },
  {
   "cell_type": "code",
   "execution_count": null,
   "id": "4b823eac-c040-4357-8ecc-2a3a71f44b23",
   "metadata": {},
   "outputs": [],
   "source": []
  },
  {
   "cell_type": "code",
   "execution_count": 1,
   "id": "4071ada4-e148-4eb2-95bb-10c3036802b8",
   "metadata": {},
   "outputs": [],
   "source": [
    "#Inheritance"
   ]
  },
  {
   "cell_type": "code",
   "execution_count": 2,
   "id": "92d1125d-4465-4f6e-9e5f-6d73eda485d8",
   "metadata": {},
   "outputs": [],
   "source": [
    "class Animal ():\n",
    "\n",
    "    #method 1\n",
    "    def __init__(self):\n",
    "        print (\"ANIMAL CREATED\")\n",
    "\n",
    "    #method 2\n",
    "    def who_am_i(self):\n",
    "        print (\"I am an animal\")\n",
    "\n",
    "    #method 3\n",
    "    def eat (self):\n",
    "        print (\"I am eating\")"
   ]
  },
  {
   "cell_type": "code",
   "execution_count": null,
   "id": "474e3f83-d531-4c28-bd7c-6784c69d4bbc",
   "metadata": {},
   "outputs": [],
   "source": [
    "#create a dog class to inherit the Animal class\n",
    "\n",
    "class Dog(Animal):\n",
    "    def __init__(self):\n",
    "        Animal.__init__(self)\n",
    "        print (\"Dog Created\")\n",
    "    "
   ]
  },
  {
   "cell_type": "code",
   "execution_count": 4,
   "id": "380242cb-e5c9-4cce-a633-ce10a8df2b88",
   "metadata": {},
   "outputs": [
    {
     "name": "stdout",
     "output_type": "stream",
     "text": [
      "ANIMAL CREATED\n"
     ]
    }
   ],
   "source": [
    "myanimal = Animal()"
   ]
  },
  {
   "cell_type": "code",
   "execution_count": 6,
   "id": "83fada70-219e-4dd1-afaa-ece239dd76be",
   "metadata": {},
   "outputs": [
    {
     "name": "stdout",
     "output_type": "stream",
     "text": [
      "I am eating\n"
     ]
    }
   ],
   "source": [
    "myanimal.eat()"
   ]
  },
  {
   "cell_type": "code",
   "execution_count": 7,
   "id": "651a9494-4114-41b6-bf20-22aaa22d2257",
   "metadata": {},
   "outputs": [
    {
     "name": "stdout",
     "output_type": "stream",
     "text": [
      "I am an animal\n"
     ]
    }
   ],
   "source": [
    "myanimal.who_am_i()"
   ]
  },
  {
   "cell_type": "code",
   "execution_count": null,
   "id": "64a8bd1e-2a42-4773-a1f1-383d83f012ca",
   "metadata": {},
   "outputs": [],
   "source": []
  },
  {
   "cell_type": "code",
   "execution_count": 13,
   "id": "a70aaea0-2a7c-4e85-8de7-a1c1082ac775",
   "metadata": {},
   "outputs": [],
   "source": [
    "class Book():\n",
    "\n",
    "    def __init__(self, title, author, pages):\n",
    "        self.title = title\n",
    "        self.author = author\n",
    "        self.pages = pages\n",
    "\n",
    "    #method str\n",
    "    def __str__(self):\n",
    "        return f\"{self.title} by {self.author}\"\n",
    "\n",
    "    #method len\n",
    "    def __len__(self):\n",
    "        return self.pages\n",
    "\n",
    "    def __del__(self):\n",
    "        print(\"A book object has been deleted\")"
   ]
  },
  {
   "cell_type": "code",
   "execution_count": 14,
   "id": "e622c648-b40d-48e9-9c46-99c53d18e56e",
   "metadata": {},
   "outputs": [
    {
     "name": "stdout",
     "output_type": "stream",
     "text": [
      "A book object has been deleted\n"
     ]
    }
   ],
   "source": [
    "b = Book('Python rock','Jose',200)"
   ]
  },
  {
   "cell_type": "code",
   "execution_count": 15,
   "id": "c2d60662-cd70-4d21-9427-19c6858b3a7a",
   "metadata": {},
   "outputs": [
    {
     "name": "stdout",
     "output_type": "stream",
     "text": [
      "Python rock by Jose\n"
     ]
    }
   ],
   "source": [
    "print (b)"
   ]
  },
  {
   "cell_type": "code",
   "execution_count": null,
   "id": "985849c9-461f-451d-8d63-7364a9858018",
   "metadata": {},
   "outputs": [],
   "source": []
  }
 ],
 "metadata": {
  "kernelspec": {
   "display_name": "Python [conda env:base] *",
   "language": "python",
   "name": "conda-base-py"
  },
  "language_info": {
   "codemirror_mode": {
    "name": "ipython",
    "version": 3
   },
   "file_extension": ".py",
   "mimetype": "text/x-python",
   "name": "python",
   "nbconvert_exporter": "python",
   "pygments_lexer": "ipython3",
   "version": "3.13.5"
  }
 },
 "nbformat": 4,
 "nbformat_minor": 5
}
